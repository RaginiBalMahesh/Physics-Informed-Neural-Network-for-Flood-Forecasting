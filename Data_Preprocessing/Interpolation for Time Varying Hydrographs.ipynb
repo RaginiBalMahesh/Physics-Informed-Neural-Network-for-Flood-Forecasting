{
 "cells": [
  {
   "cell_type": "markdown",
   "metadata": {},
   "source": [
    "#### This file is used for interpolation (at every second) of hydrographs that have varying base time"
   ]
  },
  {
   "cell_type": "code",
   "execution_count": null,
   "metadata": {},
   "outputs": [],
   "source": [
    "import numpy as np\n",
    "import matplotlib.pyplot as plt\n",
    "from scipy.interpolate import interp1d\n",
    "import pandas as pd"
   ]
  },
  {
   "cell_type": "markdown",
   "metadata": {},
   "source": [
    "#### Loading Data"
   ]
  },
  {
   "cell_type": "code",
   "execution_count": 2,
   "metadata": {},
   "outputs": [],
   "source": [
    "#time varying hydrographs\n",
    "path_to_hydrograph = '/Users/ragini/Desktop/Thesis/Data/Hydrograph_23_09_2020.xlsx' ######## Check the data path ######## "
   ]
  },
  {
   "cell_type": "code",
   "execution_count": 3,
   "metadata": {},
   "outputs": [],
   "source": [
    "tmp = pd.ExcelFile(path_to_hydrograph)\n",
    "hydrograph = tmp.parse('Hydrograph_2') ######## Check the sheet name ######## \n",
    "\n",
    "######## List the q values for time varying peaks ######\n",
    "q= ['17.8','18']\n",
    "bt = hydrograph.columns[np.arange(0,len(hydrograph.columns),2)] # base time column names"
   ]
  },
  {
   "cell_type": "markdown",
   "metadata": {},
   "source": [
    "#### Interpolation "
   ]
  },
  {
   "cell_type": "code",
   "execution_count": 4,
   "metadata": {},
   "outputs": [],
   "source": [
    "new_hydrograph = pd.DataFrame()\n",
    "\n",
    "for index, q_in in enumerate(q):\n",
    "    tmp = pd.DataFrame()\n",
    "\n",
    "    interpolated_time = []\n",
    "    interpolated_y = []\n",
    "\n",
    "    x = list(map(int,hydrograph[bt[index]].tolist()))\n",
    "    y = hydrograph['q '+ q_in+'m3/s'].tolist()\n",
    "\n",
    "    i=0\n",
    "    while i<len(x)-1:\n",
    "        f = interp1d([x[i], x[i+1]], [y[i], y[i+1]], 'linear')\n",
    "        xnew = np.arange(x[i], x[i+1], 1)\n",
    "        ynew = f(xnew)\n",
    "        interpolated_y += list(ynew)\n",
    "        interpolated_time += list(xnew)\n",
    "        i+=1\n",
    "    \n",
    "    tmp['q '+ q_in+'m3/s'] = interpolated_y\n",
    "    tmp['Time for q='+q_in] = interpolated_time\n",
    "    \n",
    "    new_hydrograph = pd.concat([new_hydrograph,tmp],  axis=1)\n",
    "\n",
    "    "
   ]
  },
  {
   "cell_type": "markdown",
   "metadata": {},
   "source": [
    "#### Saving File to Excel"
   ]
  },
  {
   "cell_type": "code",
   "execution_count": 5,
   "metadata": {},
   "outputs": [],
   "source": [
    "######## Check the data path ######## \n",
    "new_hydrograph.to_excel('/Users/ragini/Desktop/hydrograph_time_varying_test.xlsx',sheet_name='Hydrographs', index=False)  "
   ]
  }
 ],
 "metadata": {
  "kernelspec": {
   "display_name": "thesis",
   "language": "python",
   "name": "thesis"
  },
  "language_info": {
   "codemirror_mode": {
    "name": "ipython",
    "version": 3
   },
   "file_extension": ".py",
   "mimetype": "text/x-python",
   "name": "python",
   "nbconvert_exporter": "python",
   "pygments_lexer": "ipython3",
   "version": "3.7.6"
  }
 },
 "nbformat": 4,
 "nbformat_minor": 4
}
