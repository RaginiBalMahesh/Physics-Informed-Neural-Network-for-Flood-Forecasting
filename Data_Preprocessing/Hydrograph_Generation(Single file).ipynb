{
 "cells": [
  {
   "cell_type": "markdown",
   "metadata": {},
   "source": [
    "#### This file is hydrograph input file format for FullSWOF-2D (physically-based model)"
   ]
  },
  {
   "cell_type": "code",
   "execution_count": 1,
   "metadata": {},
   "outputs": [],
   "source": [
    "import numpy as np\n",
    "import pandas as pd\n",
    "import math\n",
    "import os"
   ]
  },
  {
   "cell_type": "markdown",
   "metadata": {},
   "source": [
    "#### Loading Data"
   ]
  },
  {
   "cell_type": "code",
   "execution_count": 2,
   "metadata": {},
   "outputs": [],
   "source": [
    "######## Change the q values for flow peaks ######\n",
    "q_in = '12.8'\n",
    "\n",
    "######## Check the data path ######## \n",
    "file_path = '/Users/ragini/Desktop/Thesis/Data/Polynomial_hydrograph/hydrograph_time_varying_truncated.xlsx'\n",
    "output_dir = '/Users/ragini/Desktop/Thesis/FullSWOF_2D-1.09.01_win_2/Examples/Model_6_extended_flow/train_0.5_varying_hut_f_25_s_500_12.8m3s/Inputs/'"
   ]
  },
  {
   "cell_type": "code",
   "execution_count": 3,
   "metadata": {},
   "outputs": [],
   "source": [
    "tmp = pd.ExcelFile(file_path)\n",
    "hydrograph = tmp.parse('Hydrographs') ######## Check the sheet name ########"
   ]
  },
  {
   "cell_type": "markdown",
   "metadata": {},
   "source": [
    "#### Input File Creation"
   ]
  },
  {
   "cell_type": "code",
   "execution_count": 4,
   "metadata": {},
   "outputs": [],
   "source": [
    "t_fns = pd.DataFrame(columns=['t','fn'])\n",
    "for t,q in zip(hydrograph['Time for q='+q_in],hydrograph['q '+q_in+'m3/s']):\n",
    "#     print(t)\n",
    "    \n",
    "    if not math.isnan(t):\n",
    "        bc = pd.DataFrame({'#(j-0.5)*dx':[0.5],   'BC[j]':[5],    'q[j]':[q],    'h[j]':[0.5]})\n",
    "\n",
    "        bc_fn = 'bc_t_'+str(int(t))+'.txt'\n",
    "        t_fns = t_fns.append({'t':int(t),'fn':bc_fn},ignore_index=True)\n",
    "\n",
    "        bc.to_csv(os.path.join(output_dir, bc_fn), sep='\\t', index=False, )\n",
    "\n",
    "t_fns.to_csv(os.path.join(output_dir, 'input_bc.txt'), sep='\\t', index=False, header=None)"
   ]
  }
 ],
 "metadata": {
  "kernelspec": {
   "display_name": "thesis",
   "language": "python",
   "name": "thesis"
  },
  "language_info": {
   "codemirror_mode": {
    "name": "ipython",
    "version": 3
   },
   "file_extension": ".py",
   "mimetype": "text/x-python",
   "name": "python",
   "nbconvert_exporter": "python",
   "pygments_lexer": "ipython3",
   "version": "3.7.6"
  }
 },
 "nbformat": 4,
 "nbformat_minor": 4
}
