{
 "cells": [
  {
   "cell_type": "markdown",
   "metadata": {},
   "source": [
    "#### This file is used to check id the Froude Number is below 1, subcritical flow"
   ]
  },
  {
   "cell_type": "code",
   "execution_count": 1,
   "metadata": {},
   "outputs": [],
   "source": [
    "import pandas as pd\n",
    "import re\n",
    "import os\n",
    "import glob"
   ]
  },
  {
   "cell_type": "markdown",
   "metadata": {},
   "source": [
    "#### Loading Data"
   ]
  },
  {
   "cell_type": "code",
   "execution_count": 2,
   "metadata": {},
   "outputs": [],
   "source": [
    "######## Check the data path ######## \n",
    "examples_path = glob.glob('/Users/ragini/Desktop/Thesis/FullSWOF_2D-1.09.01_win_2/Examples/Model_6_extended_flow/train/*')\n",
    "# hydrographs = ['2', '4', '6', '8', '10']\n",
    "evol_paths = [os.path.join(i, 'Outputs/huz_evolution.dat')\n",
    "             for i in examples_path]"
   ]
  },
  {
   "cell_type": "markdown",
   "metadata": {},
   "source": [
    "#### Dataframe Parser"
   ]
  },
  {
   "cell_type": "code",
   "execution_count": 3,
   "metadata": {},
   "outputs": [],
   "source": [
    "def parse_evolution_file_to_datafram(evol_path):\n",
    "    output =[]\n",
    "    fp = open(evol_path)\n",
    "    \n",
    "    for idx,line in enumerate(fp):\n",
    "        # Skipping first 5 lines\n",
    "        if idx<5:\n",
    "            continue\n",
    "        # Skipping new lines\n",
    "        if line =='\\n':\n",
    "            continue\n",
    "        # From # time extracting time\n",
    "        elif line[:6] == '# time':\n",
    "            extract_time = re.findall(r\"[-+]?\\d*\\.\\d+|\\d+\", line)\n",
    "            \n",
    "        # Extracting all the input variables and appending time as first element\n",
    "        else:\n",
    "            extract_input = extract_time + re.split(r'\\t\\s*', line.rstrip('\\n'))\n",
    "            output.append(extract_input)\n",
    "\n",
    "    fp.close()\n",
    "    \n",
    "    # From extracted input creating dataframe\n",
    "    evol_df = pd.DataFrame(output, columns=['time','i','(j-0.5)*dy','h','u','v[i][j]',\n",
    "                              'h[i][j]+z[i][j]','z[i][j]','norm_U[i][j]','Fr[i][j] (Froude)','qx[i][j]',\n",
    "                              'qy[i][j]','q'])\n",
    "    # Dropping columns which are not required\n",
    "    evol_df = evol_df.drop(columns=['(j-0.5)*dy','v[i][j]',\n",
    "                              'h[i][j]+z[i][j]','z[i][j]','norm_U[i][j]','qx[i][j]',\n",
    "                              'qy[i][j]'])\n",
    "\n",
    "    \n",
    "    # Converting time to float and sorting based on time\n",
    "    evol_df['time'] = evol_df['time'].astype(float)\n",
    "    evol_df['Fr[i][j] (Froude)']= evol_df['Fr[i][j] (Froude)'].astype(float)\n",
    "    evol_df = evol_df.sort_values('time')\n",
    "    \n",
    "    \n",
    "    # Dropping first row as it doesn't have du_dt\n",
    "    evol_df = evol_df.drop(0).reset_index(drop=True)\n",
    "    return evol_df"
   ]
  },
  {
   "cell_type": "markdown",
   "metadata": {},
   "source": [
    "#### Check for Froude Number"
   ]
  },
  {
   "cell_type": "code",
   "execution_count": 4,
   "metadata": {},
   "outputs": [
    {
     "name": "stdout",
     "output_type": "stream",
     "text": [
      "0.86754\n",
      "0.729636\n",
      "0.644444\n"
     ]
    }
   ],
   "source": [
    "for path in evol_paths:\n",
    "    tmp = parse_evolution_file_to_datafram(path)\n",
    "    Froude_num = tmp['Fr[i][j] (Froude)'].max()\n",
    "    print(Froude_num)"
   ]
  }
 ],
 "metadata": {
  "kernelspec": {
   "display_name": "thesis",
   "language": "python",
   "name": "thesis"
  },
  "language_info": {
   "codemirror_mode": {
    "name": "ipython",
    "version": 3
   },
   "file_extension": ".py",
   "mimetype": "text/x-python",
   "name": "python",
   "nbconvert_exporter": "python",
   "pygments_lexer": "ipython3",
   "version": "3.7.6"
  }
 },
 "nbformat": 4,
 "nbformat_minor": 4
}
