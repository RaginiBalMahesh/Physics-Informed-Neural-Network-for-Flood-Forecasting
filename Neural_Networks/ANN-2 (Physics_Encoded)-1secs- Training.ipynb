{
 "cells": [
  {
   "cell_type": "markdown",
   "metadata": {},
   "source": [
    "####  Training & Validation File for ANN with physics encoded structure (see input shape = 5) & MSE loss Function"
   ]
  },
  {
   "cell_type": "code",
   "execution_count": 1,
   "metadata": {
    "execution": {
     "iopub.execute_input": "2020-09-03T18:54:43.700689Z",
     "iopub.status.busy": "2020-09-03T18:54:43.699893Z",
     "iopub.status.idle": "2020-09-03T18:54:51.337199Z",
     "shell.execute_reply": "2020-09-03T18:54:51.336347Z"
    },
    "papermill": {
     "duration": 7.66074,
     "end_time": "2020-09-03T18:54:51.337335",
     "exception": false,
     "start_time": "2020-09-03T18:54:43.676595",
     "status": "completed"
    },
    "tags": []
   },
   "outputs": [],
   "source": [
    "#import libraries\n",
    "import pandas as pd\n",
    "import numpy as np\n",
    "import matplotlib.pyplot as plt\n",
    "from tensorflow.keras.models import Sequential\n",
    "from tensorflow.keras.layers import Dense\n",
    "from tensorflow.keras.callbacks import EarlyStopping, TensorBoard\n",
    "from tensorflow.keras.regularizers import l2\n",
    "from tensorflow.keras import backend as K\n",
    "# from tensorflow import keras\n",
    "import tensorflow as tf\n",
    "\n",
    "# %load_ext tensorboard\n",
    "# import tensorboard\n",
    "import os\n"
   ]
  },
  {
   "cell_type": "code",
   "execution_count": 2,
   "metadata": {
    "execution": {
     "iopub.execute_input": "2020-09-03T18:54:51.362612Z",
     "iopub.status.busy": "2020-09-03T18:54:51.361681Z",
     "iopub.status.idle": "2020-09-03T18:54:51.364781Z",
     "shell.execute_reply": "2020-09-03T18:54:51.364047Z"
    },
    "papermill": {
     "duration": 0.017802,
     "end_time": "2020-09-03T18:54:51.364901",
     "exception": false,
     "start_time": "2020-09-03T18:54:51.347099",
     "status": "completed"
    },
    "tags": []
   },
   "outputs": [],
   "source": [
    "from datetime import datetime\n",
    "from tensorflow.python.framework.ops import disable_eager_execution\n",
    "\n",
    "disable_eager_execution()"
   ]
  },
  {
   "cell_type": "markdown",
   "metadata": {
    "papermill": {
     "duration": 0.008631,
     "end_time": "2020-09-03T18:54:51.384383",
     "exception": false,
     "start_time": "2020-09-03T18:54:51.375752",
     "status": "completed"
    },
    "tags": []
   },
   "source": [
    "####  Data Paths"
   ]
  },
  {
   "cell_type": "code",
   "execution_count": 4,
   "metadata": {},
   "outputs": [],
   "source": [
    "BASE_DIR_PATH = '/Users/ge72vep/Desktop/thesis/' \n",
    "DATA_PATH = 'Data/Model_8/'   \n",
    "MODEL_PATH = 'models/model_8_MSE_1_secs_batch1.h5' ######## Check the data path ######## \n",
    "IMAGES_PATH = 'results/images/'    \n",
    "VIDEOS_PATH = 'results/videos/'\n",
    "EXP_NAME = 'MSE_exp_1sec_M8_batch1' ######## Check file name ########\n",
    "VIDEO_NAME = 'MSE_1sec_M8_batch1'  ######## Check file name ########"
   ]
  },
  {
   "cell_type": "code",
   "execution_count": 5,
   "metadata": {},
   "outputs": [],
   "source": [
    "PATH_TO_DATA = os.path.join(BASE_DIR_PATH, DATA_PATH)\n",
    "save_model_path = os.path.join(BASE_DIR_PATH, MODEL_PATH)\n",
    "save_images_path = os.path.join(BASE_DIR_PATH, IMAGES_PATH, EXP_NAME)\n",
    "save_video_path = os.path.join(BASE_DIR_PATH, VIDEOS_PATH, VIDEO_NAME)\n",
    "save_results_path = os.path.join(BASE_DIR_PATH, 'models', EXP_NAME+'.csv')"
   ]
  },
  {
   "cell_type": "markdown",
   "metadata": {
    "papermill": {
     "duration": 0.00855,
     "end_time": "2020-09-03T18:54:51.428366",
     "exception": false,
     "start_time": "2020-09-03T18:54:51.419816",
     "status": "completed"
    },
    "tags": []
   },
   "source": [
    "\n",
    "#### Loading dataset\n",
    "\n"
   ]
  },
  {
   "cell_type": "code",
   "execution_count": 6,
   "metadata": {
    "execution": {
     "iopub.execute_input": "2020-09-03T18:54:51.456883Z",
     "iopub.status.busy": "2020-09-03T18:54:51.456152Z",
     "iopub.status.idle": "2020-09-03T18:55:20.110167Z",
     "shell.execute_reply": "2020-09-03T18:55:20.109464Z"
    },
    "papermill": {
     "duration": 28.673092,
     "end_time": "2020-09-03T18:55:20.110292",
     "exception": false,
     "start_time": "2020-09-03T18:54:51.437200",
     "status": "completed"
    },
    "tags": []
   },
   "outputs": [],
   "source": [
    "train_df = pd.read_csv(os.path.join(PATH_TO_DATA, 'train.csv'))\n",
    "val_df = pd.read_csv(os.path.join(PATH_TO_DATA, 'val.csv'))"
   ]
  },
  {
   "cell_type": "code",
   "execution_count": 8,
   "metadata": {},
   "outputs": [],
   "source": [
    "train_df = train_df.sort_values(['identifier','x','time']).reset_index(drop=True)\n",
    "val_df = val_df.sort_values(['identifier','x','time']).reset_index(drop=True)"
   ]
  },
  {
   "cell_type": "code",
   "execution_count": 9,
   "metadata": {
    "execution": {
     "iopub.execute_input": "2020-09-03T18:55:20.590412Z",
     "iopub.status.busy": "2020-09-03T18:55:20.589341Z",
     "iopub.status.idle": "2020-09-03T18:56:42.362580Z",
     "shell.execute_reply": "2020-09-03T18:56:42.361758Z"
    },
    "papermill": {
     "duration": 82.242915,
     "end_time": "2020-09-03T18:56:42.362715",
     "exception": false,
     "start_time": "2020-09-03T18:55:20.119800",
     "status": "completed"
    },
    "tags": []
   },
   "outputs": [],
   "source": [
    "X_train = np.array(train_df[['x','time', 'q', 'friction_coeff', 'slope']].values.tolist())\n",
    "X_val = np.array(val_df[['x','time', 'q', 'friction_coeff', 'slope']].values.tolist())"
   ]
  },
  {
   "cell_type": "code",
   "execution_count": 10,
   "metadata": {
    "execution": {
     "iopub.execute_input": "2020-09-03T18:57:21.606283Z",
     "iopub.status.busy": "2020-09-03T18:56:59.759759Z",
     "iopub.status.idle": "2020-09-03T18:57:37.604965Z",
     "shell.execute_reply": "2020-09-03T18:57:37.604326Z"
    },
    "papermill": {
     "duration": 55.232753,
     "end_time": "2020-09-03T18:57:37.605097",
     "exception": false,
     "start_time": "2020-09-03T18:56:42.372344",
     "status": "completed"
    },
    "tags": []
   },
   "outputs": [],
   "source": [
    "Y_train = np.array(train_df[['u','h']].values.tolist())\n",
    "Y_val = np.array(val_df[['u','h']].values.tolist())"
   ]
  },
  {
   "cell_type": "markdown",
   "metadata": {
    "papermill": {
     "duration": 0.008895,
     "end_time": "2020-09-03T18:57:37.623182",
     "exception": false,
     "start_time": "2020-09-03T18:57:37.614287",
     "status": "completed"
    },
    "tags": []
   },
   "source": [
    "#### Params"
   ]
  },
  {
   "cell_type": "code",
   "execution_count": 11,
   "metadata": {
    "execution": {
     "iopub.execute_input": "2020-09-03T18:57:37.646495Z",
     "iopub.status.busy": "2020-09-03T18:57:37.645744Z",
     "iopub.status.idle": "2020-09-03T18:57:37.649313Z",
     "shell.execute_reply": "2020-09-03T18:57:37.648580Z"
    },
    "papermill": {
     "duration": 0.017209,
     "end_time": "2020-09-03T18:57:37.649445",
     "exception": false,
     "start_time": "2020-09-03T18:57:37.632236",
     "status": "completed"
    },
    "tags": []
   },
   "outputs": [],
   "source": [
    "epochs= 15"
   ]
  },
  {
   "cell_type": "markdown",
   "metadata": {
    "papermill": {
     "duration": 0.008778,
     "end_time": "2020-09-03T18:57:37.667128",
     "exception": false,
     "start_time": "2020-09-03T18:57:37.658350",
     "status": "completed"
    },
    "tags": []
   },
   "source": [
    "#### Model  with grid search"
   ]
  },
  {
   "cell_type": "code",
   "execution_count": 12,
   "metadata": {
    "execution": {
     "iopub.execute_input": "2020-09-03T18:57:37.690242Z",
     "iopub.status.busy": "2020-09-03T18:57:37.689541Z",
     "iopub.status.idle": "2020-09-03T18:57:37.692914Z",
     "shell.execute_reply": "2020-09-03T18:57:37.692342Z"
    },
    "papermill": {
     "duration": 0.017064,
     "end_time": "2020-09-03T18:57:37.693031",
     "exception": false,
     "start_time": "2020-09-03T18:57:37.675967",
     "status": "completed"
    },
    "tags": []
   },
   "outputs": [],
   "source": [
    "best_val_loss = np.inf\n",
    "best_model = -1 "
   ]
  },
  {
   "cell_type": "code",
   "execution_count": 13,
   "metadata": {
    "execution": {
     "iopub.execute_input": "2020-09-03T18:57:37.723239Z",
     "iopub.status.busy": "2020-09-03T18:57:37.722249Z",
     "iopub.status.idle": "2020-09-03T18:57:37.725716Z",
     "shell.execute_reply": "2020-09-03T18:57:37.724996Z"
    },
    "papermill": {
     "duration": 0.023284,
     "end_time": "2020-09-03T18:57:37.725823",
     "exception": false,
     "start_time": "2020-09-03T18:57:37.702539",
     "status": "completed"
    },
    "tags": []
   },
   "outputs": [],
   "source": [
    "results = pd.DataFrame(columns=['n1','n2','n3', 'epochs', 'reg',\n",
    "                               'val_r2', 'val_nse', 'val_mse', 'val_mae', 'val_mape'])\n",
    "layer_1_neurons = np.arange(5,6,10)   ######## Check the number of neurons ########\n",
    "layer_2_neurons = np.arange(5,26,10)   ######## Check the number of neurons ########\n",
    "layer_3_neurons = np.arange(5,26,10)   ######## Check the number of neurons ########\n",
    "reg_consts = [0]"
   ]
  },
  {
   "cell_type": "markdown",
   "metadata": {},
   "source": [
    "#### Evaluation Metric"
   ]
  },
  {
   "cell_type": "code",
   "execution_count": 14,
   "metadata": {
    "execution": {
     "iopub.execute_input": "2020-09-03T18:57:37.752901Z",
     "iopub.status.busy": "2020-09-03T18:57:37.752081Z",
     "iopub.status.idle": "2020-09-03T18:57:37.755228Z",
     "shell.execute_reply": "2020-09-03T18:57:37.754686Z"
    },
    "papermill": {
     "duration": 0.020527,
     "end_time": "2020-09-03T18:57:37.755338",
     "exception": false,
     "start_time": "2020-09-03T18:57:37.734811",
     "status": "completed"
    },
    "tags": []
   },
   "outputs": [],
   "source": [
    "def r_square(y_true, y_pred):\n",
    "    x = y_true\n",
    "    y = y_pred\n",
    "    mx = K.mean(x, axis=0)\n",
    "    my = K.mean(y, axis=0)\n",
    "    xm, ym = x - mx, y - my\n",
    "    r_num = K.square(K.sum(xm * ym))\n",
    "    x_square_sum = K.sum(xm * xm)\n",
    "    y_square_sum = K.sum(ym * ym)\n",
    "    r_den = (x_square_sum * y_square_sum) + K.epsilon()\n",
    "    \n",
    "    r = r_num / r_den\n",
    "    return r"
   ]
  },
  {
   "cell_type": "code",
   "execution_count": 15,
   "metadata": {
    "execution": {
     "iopub.execute_input": "2020-09-03T18:57:37.781819Z",
     "iopub.status.busy": "2020-09-03T18:57:37.780806Z",
     "iopub.status.idle": "2020-09-03T18:57:37.783340Z",
     "shell.execute_reply": "2020-09-03T18:57:37.783923Z"
    },
    "papermill": {
     "duration": 0.019312,
     "end_time": "2020-09-03T18:57:37.784065",
     "exception": false,
     "start_time": "2020-09-03T18:57:37.764753",
     "status": "completed"
    },
    "tags": []
   },
   "outputs": [],
   "source": [
    "def NSE(y_true, y_pred):\n",
    "\n",
    "    y_pred = K.flatten(y_pred)\n",
    "    y_true = K.flatten(y_true)\n",
    "\n",
    "    \n",
    "    SS_res =  K.sum(K.square(y_true - y_pred)) \n",
    "    SS_tot = K.sum(K.square(y_true - K.mean(y_true))) \n",
    "    \n",
    "    return ( 1 - SS_res/(SS_tot + K.epsilon()) )"
   ]
  },
  {
   "cell_type": "code",
   "execution_count": 17,
   "metadata": {
    "execution": {
     "iopub.execute_input": "2020-09-03T18:57:37.859913Z",
     "iopub.status.busy": "2020-09-03T18:57:37.858948Z",
     "iopub.status.idle": "2020-09-03T19:08:09.137913Z",
     "shell.execute_reply": "2020-09-03T19:08:09.137246Z"
    },
    "papermill": {
     "duration": 631.312345,
     "end_time": "2020-09-03T19:08:09.138043",
     "exception": false,
     "start_time": "2020-09-03T18:57:37.825698",
     "status": "completed"
    },
    "scrolled": true,
    "tags": []
   },
   "outputs": [
    {
     "name": "stdout",
     "output_type": "stream",
     "text": [
      "5 5 5 0\n",
      "WARNING:tensorflow:From D:\\Users\\ge72vep\\.conda\\envs\\thesis\\lib\\site-packages\\tensorflow_core\\python\\ops\\resource_variable_ops.py:1635: calling BaseResourceVariable.__init__ (from tensorflow.python.ops.resource_variable_ops) with constraint is deprecated and will be removed in a future version.\n",
      "Instructions for updating:\n",
      "If using Keras pass *_constraint arguments to layers.\n",
      "Train on 8877500 samples, validate on 2885500 samples\n",
      "Epoch 1/15\n",
      "8877500/8877500 [==============================] - 322s 36us/sample - loss: 33.3807 - mape: 58.2493 - mae: 0.6691 - mse: 16.6719 - NSE: -11.7324 - r_square: 0.6244 - val_loss: 0.6277 - val_mape: 32.5121 - val_mae: 0.4334 - val_mse: 0.2973 - val_NSE: 0.7074 - val_r_square: 0.7236\n",
      "Epoch 2/15\n",
      "8877500/8877500 [==============================] - 323s 36us/sample - loss: 0.7673 - mape: 37.0760 - mae: 0.4555 - mse: 0.3712 - NSE: 0.7184 - r_square: 0.7229 - val_loss: 0.5960 - val_mape: 34.2411 - val_mae: 0.4333 - val_mse: 0.2813 - val_NSE: 0.7231 - val_r_square: 0.7310\n",
      "Epoch 3/15\n",
      "8877500/8877500 [==============================] - 323s 36us/sample - loss: 0.7547 - mape: 36.3139 - mae: 0.4500 - mse: 0.3649 - NSE: 0.7231 - r_square: 0.7275 - val_loss: 0.5890 - val_mape: 33.8146 - val_mae: 0.4272 - val_mse: 0.2779 - val_NSE: 0.7265 - val_r_square: 0.7349\n",
      "Epoch 4/15\n",
      "8877500/8877500 [==============================] - 323s 36us/sample - loss: 0.7364 - mape: 35.1349 - mae: 0.4410 - mse: 0.3558 - NSE: 0.7301 - r_square: 0.7348 - val_loss: 0.5668 - val_mape: 31.9777 - val_mae: 0.4173 - val_mse: 0.2667 - val_NSE: 0.7375 - val_r_square: 0.7475\n",
      "Epoch 5/15\n",
      "8877500/8877500 [==============================] - 323s 36us/sample - loss: 0.7255 - mape: 34.5983 - mae: 0.4350 - mse: 0.3503 - NSE: 0.7342 - r_square: 0.7392 - val_loss: 0.5511 - val_mape: 33.8857 - val_mae: 0.4187 - val_mse: 0.2588 - val_NSE: 0.7452 - val_r_square: 0.7502\n",
      "Epoch 6/15\n",
      "8877500/8877500 [==============================] - 323s 36us/sample - loss: 0.7216 - mape: 34.5528 - mae: 0.4327 - mse: 0.3484 - NSE: 0.7357 - r_square: 0.7407 - val_loss: 0.5810 - val_mape: 30.7584 - val_mae: 0.4187 - val_mse: 0.2737 - val_NSE: 0.7306 - val_r_square: 0.7484\n",
      "Epoch 7/15\n",
      "8877500/8877500 [==============================] - 323s 36us/sample - loss: 0.7198 - mape: 34.5313 - mae: 0.4317 - mse: 0.3475 - NSE: 0.7364 - r_square: 0.7413 - val_loss: 0.5580 - val_mape: 34.1231 - val_mae: 0.4209 - val_mse: 0.2623 - val_NSE: 0.7419 - val_r_square: 0.7501\n",
      "5 5 15 0\n",
      "Train on 8877500 samples, validate on 2885500 samples\n",
      "Epoch 1/15\n",
      "8877500/8877500 [==============================] - 333s 38us/sample - loss: 1.9344 - mape: 41.0366 - mae: 0.4985 - mse: 0.9517 - NSE: 0.2804 - r_square: 0.6786 - val_loss: 0.4849 - val_mape: 25.3808 - val_mae: 0.3593 - val_mse: 0.2256 - val_NSE: 0.7783 - val_r_square: 0.7910\n",
      "Epoch 2/15\n",
      "8877500/8877500 [==============================] - 331s 37us/sample - loss: 0.4041 - mape: 26.6990 - mae: 0.3389 - mse: 0.1897 - NSE: 0.8555 - r_square: 0.8599 - val_loss: 0.5550 - val_mape: 26.9975 - val_mae: 0.3854 - val_mse: 0.2609 - val_NSE: 0.7433 - val_r_square: 0.7553\n",
      "Epoch 3/15\n",
      "8877500/8877500 [==============================] - 332s 37us/sample - loss: 0.3738 - mape: 24.2468 - mae: 0.3160 - mse: 0.1746 - NSE: 0.8671 - r_square: 0.8709 - val_loss: 0.6321 - val_mape: 28.6458 - val_mae: 0.4201 - val_mse: 0.2997 - val_NSE: 0.7051 - val_r_square: 0.7268\n",
      "5 5 25 0\n",
      "Train on 8877500 samples, validate on 2885500 samples\n",
      "Epoch 1/15\n",
      "8877500/8877500 [==============================] - 343s 39us/sample - loss: 1.9358 - mape: 30.9726 - mae: 0.3914 - mse: 0.9466 - NSE: 0.2737 - r_square: 0.8123 - val_loss: 0.7072 - val_mape: 29.5086 - val_mae: 0.4386 - val_mse: 0.3364 - val_NSE: 0.6688 - val_r_square: 0.6973\n",
      "Epoch 2/15\n",
      "8877500/8877500 [==============================] - 342s 39us/sample - loss: 0.2817 - mape: 20.9557 - mae: 0.2682 - mse: 0.1282 - NSE: 0.9024 - r_square: 0.9061 - val_loss: 0.6687 - val_mape: 29.9981 - val_mae: 0.4299 - val_mse: 0.3172 - val_NSE: 0.6876 - val_r_square: 0.7040\n",
      "Epoch 3/15\n",
      "8877500/8877500 [==============================] - 342s 38us/sample - loss: 0.2515 - mape: 19.4030 - mae: 0.2492 - mse: 0.1130 - NSE: 0.9139 - r_square: 0.9171 - val_loss: 0.6541 - val_mape: 27.9732 - val_mae: 0.4166 - val_mse: 0.3094 - val_NSE: 0.6954 - val_r_square: 0.7257\n",
      "Epoch 4/15\n",
      "8877500/8877500 [==============================] - 343s 39us/sample - loss: 0.2001 - mape: 17.0435 - mae: 0.2159 - mse: 0.0872 - NSE: 0.9335 - r_square: 0.9370 - val_loss: 0.2894 - val_mape: 20.0264 - val_mae: 0.2745 - val_mse: 0.1278 - val_NSE: 0.8744 - val_r_square: 0.9055\n",
      "Epoch 5/15\n",
      "8877500/8877500 [==============================] - 343s 39us/sample - loss: 0.1060 - mape: 12.5197 - mae: 0.1475 - mse: 0.0404 - NSE: 0.9692 - r_square: 0.9731 - val_loss: 0.2562 - val_mape: 16.6899 - val_mae: 0.2400 - val_mse: 0.1115 - val_NSE: 0.8901 - val_r_square: 0.9128\n",
      "Epoch 6/15\n",
      "8877500/8877500 [==============================] - 343s 39us/sample - loss: 0.0818 - mape: 10.4248 - mae: 0.1245 - mse: 0.0284 - NSE: 0.9783 - r_square: 0.9821 - val_loss: 0.3282 - val_mape: 19.0907 - val_mae: 0.2794 - val_mse: 0.1475 - val_NSE: 0.8549 - val_r_square: 0.9004\n",
      "Epoch 7/15\n",
      "8877500/8877500 [==============================] - 344s 39us/sample - loss: 0.0738 - mape: 9.5543 - mae: 0.1162 - mse: 0.0245 - NSE: 0.9813 - r_square: 0.9847 - val_loss: 0.2199 - val_mape: 16.0135 - val_mae: 0.2369 - val_mse: 0.0934 - val_NSE: 0.9082 - val_r_square: 0.9246\n",
      "Epoch 8/15\n",
      "8877500/8877500 [==============================] - 345s 39us/sample - loss: 0.0693 - mape: 9.0694 - mae: 0.1108 - mse: 0.0222 - NSE: 0.9831 - r_square: 0.9861 - val_loss: 0.2764 - val_mape: 17.2872 - val_mae: 0.2580 - val_mse: 0.1217 - val_NSE: 0.8804 - val_r_square: 0.9141\n",
      "Epoch 9/15\n",
      "8877500/8877500 [==============================] - 344s 39us/sample - loss: 0.0657 - mape: 8.6647 - mae: 0.1063 - mse: 0.0204 - NSE: 0.9845 - r_square: 0.9872 - val_loss: 0.2596 - val_mape: 16.2706 - val_mae: 0.2471 - val_mse: 0.1132 - val_NSE: 0.8887 - val_r_square: 0.9147\n",
      "5 15 5 0\n",
      "Train on 8877500 samples, validate on 2885500 samples\n",
      "Epoch 1/15\n",
      "8877500/8877500 [==============================] - 342s 39us/sample - loss: 11.2964 - mape: 57.8687 - mae: 0.6753 - mse: 5.5300 - NSE: -3.2302 - r_square: 0.6603 - val_loss: 0.6752 - val_mape: 31.5316 - val_mae: 0.4372 - val_mse: 0.3163 - val_NSE: 0.6887 - val_r_square: 0.7734\n",
      "Epoch 2/15\n",
      "8877500/8877500 [==============================] - 340s 38us/sample - loss: 0.7068 - mape: 35.9352 - mae: 0.4299 - mse: 0.3374 - NSE: 0.7436 - r_square: 0.8040 - val_loss: 0.4002 - val_mape: 31.1460 - val_mae: 0.3410 - val_mse: 0.1806 - val_NSE: 0.8224 - val_r_square: 0.8299\n",
      "Epoch 3/15\n",
      "8877500/8877500 [==============================] - 341s 38us/sample - loss: 0.4269 - mape: 27.8039 - mae: 0.3293 - mse: 0.1990 - NSE: 0.8487 - r_square: 0.8853 - val_loss: 0.4013 - val_mape: 29.9762 - val_mae: 0.3473 - val_mse: 0.1826 - val_NSE: 0.8201 - val_r_square: 0.8793\n",
      "Epoch 4/15\n",
      "8877500/8877500 [==============================] - 343s 39us/sample - loss: 0.2642 - mape: 21.8836 - mae: 0.2583 - mse: 0.1189 - NSE: 0.9095 - r_square: 0.9298 - val_loss: 0.3727 - val_mape: 23.5616 - val_mae: 0.3093 - val_mse: 0.1694 - val_NSE: 0.8335 - val_r_square: 0.8922\n",
      "Epoch 5/15\n",
      "8877500/8877500 [==============================] - 342s 39us/sample - loss: 0.2056 - mape: 18.7794 - mae: 0.2235 - mse: 0.0902 - NSE: 0.9312 - r_square: 0.9440 - val_loss: 0.3506 - val_mape: 23.4815 - val_mae: 0.2998 - val_mse: 0.1587 - val_NSE: 0.8438 - val_r_square: 0.8986\n",
      "Epoch 6/15\n",
      "8877500/8877500 [==============================] - 341s 38us/sample - loss: 0.1153 - mape: 13.3724 - mae: 0.1562 - mse: 0.0452 - NSE: 0.9655 - r_square: 0.9712 - val_loss: 0.2998 - val_mape: 18.1147 - val_mae: 0.2735 - val_mse: 0.1333 - val_NSE: 0.8688 - val_r_square: 0.9066\n",
      "Epoch 7/15\n",
      "8877500/8877500 [==============================] - 342s 39us/sample - loss: 0.0820 - mape: 10.2398 - mae: 0.1237 - mse: 0.0285 - NSE: 0.9782 - r_square: 0.9816 - val_loss: 0.2887 - val_mape: 19.4836 - val_mae: 0.2735 - val_mse: 0.1276 - val_NSE: 0.8743 - val_r_square: 0.9047\n",
      "Epoch 8/15\n",
      "8877500/8877500 [==============================] - 341s 38us/sample - loss: 0.0682 - mape: 8.8895 - mae: 0.1080 - mse: 0.0217 - NSE: 0.9835 - r_square: 0.9859 - val_loss: 0.2551 - val_mape: 18.3770 - val_mae: 0.2584 - val_mse: 0.1109 - val_NSE: 0.8909 - val_r_square: 0.9212\n",
      "Epoch 9/15\n",
      "8877500/8877500 [==============================] - 340s 38us/sample - loss: 0.0623 - mape: 8.2384 - mae: 0.1007 - mse: 0.0188 - NSE: 0.9857 - r_square: 0.9879 - val_loss: 0.2548 - val_mape: 19.1244 - val_mae: 0.2598 - val_mse: 0.1107 - val_NSE: 0.8910 - val_r_square: 0.9217\n",
      "Epoch 10/15\n",
      "8877500/8877500 [==============================] - 340s 38us/sample - loss: 0.0596 - mape: 7.9422 - mae: 0.0970 - mse: 0.0174 - NSE: 0.9868 - r_square: 0.9887 - val_loss: 0.2224 - val_mape: 17.2757 - val_mae: 0.2393 - val_mse: 0.0945 - val_NSE: 0.9071 - val_r_square: 0.9315\n",
      "Epoch 11/15\n",
      "8877500/8877500 [==============================] - 341s 38us/sample - loss: 0.0564 - mape: 7.6275 - mae: 0.0931 - mse: 0.0158 - NSE: 0.9880 - r_square: 0.9897 - val_loss: 0.2108 - val_mape: 17.3949 - val_mae: 0.2352 - val_mse: 0.0889 - val_NSE: 0.9126 - val_r_square: 0.9353\n",
      "Epoch 12/15\n",
      "8877500/8877500 [==============================] - 343s 39us/sample - loss: 0.0546 - mape: 7.4981 - mae: 0.0910 - mse: 0.0149 - NSE: 0.9887 - r_square: 0.9903 - val_loss: 0.2468 - val_mape: 18.0921 - val_mae: 0.2480 - val_mse: 0.1067 - val_NSE: 0.8951 - val_r_square: 0.9323\n",
      "Epoch 13/15\n",
      "8877500/8877500 [==============================] - 341s 38us/sample - loss: 0.0535 - mape: 7.4054 - mae: 0.0895 - mse: 0.0144 - NSE: 0.9891 - r_square: 0.9906 - val_loss: 0.1974 - val_mape: 15.2017 - val_mae: 0.2209 - val_mse: 0.0820 - val_NSE: 0.9194 - val_r_square: 0.9401\n",
      "Epoch 14/15\n",
      "8877500/8877500 [==============================] - 341s 38us/sample - loss: 0.0528 - mape: 7.3168 - mae: 0.0883 - mse: 0.0140 - NSE: 0.9894 - r_square: 0.9908 - val_loss: 0.1979 - val_mape: 16.1947 - val_mae: 0.2240 - val_mse: 0.0823 - val_NSE: 0.9191 - val_r_square: 0.9391\n",
      "Epoch 15/15\n",
      "8877500/8877500 [==============================] - 341s 38us/sample - loss: 0.0522 - mape: 7.2522 - mae: 0.0873 - mse: 0.0137 - NSE: 0.9896 - r_square: 0.9910 - val_loss: 0.2312 - val_mape: 17.4936 - val_mae: 0.2402 - val_mse: 0.0990 - val_NSE: 0.9027 - val_r_square: 0.9349\n",
      "5 15 15 0\n",
      "Train on 8877500 samples, validate on 2885500 samples\n",
      "Epoch 1/15\n",
      "8877500/8877500 [==============================] - 368s 41us/sample - loss: 3.7997 - mape: 41.7596 - mae: 0.5094 - mse: 1.8672 - NSE: -0.4517 - r_square: 0.7312 - val_loss: 0.3633 - val_mape: 22.3185 - val_mae: 0.3025 - val_mse: 0.1639 - val_NSE: 0.8387 - val_r_square: 0.8821\n",
      "Epoch 2/15\n",
      "8877500/8877500 [==============================] - 372s 42us/sample - loss: 0.2677 - mape: 21.5769 - mae: 0.2608 - mse: 0.1210 - NSE: 0.9079 - r_square: 0.9257 - val_loss: 0.1934 - val_mape: 17.1376 - val_mae: 0.2264 - val_mse: 0.0797 - val_NSE: 0.9214 - val_r_square: 0.9285\n",
      "Epoch 3/15\n",
      "8877500/8877500 [==============================] - 372s 42us/sample - loss: 0.1406 - mape: 14.7003 - mae: 0.1780 - mse: 0.0579 - NSE: 0.9559 - r_square: 0.9648 - val_loss: 0.2361 - val_mape: 19.0822 - val_mae: 0.2566 - val_mse: 0.1013 - val_NSE: 0.9002 - val_r_square: 0.9167\n",
      "Epoch 4/15\n",
      "8877500/8877500 [==============================] - 372s 42us/sample - loss: 0.1028 - mape: 11.9236 - mae: 0.1449 - mse: 0.0390 - NSE: 0.9702 - r_square: 0.9753 - val_loss: 0.2514 - val_mape: 20.1434 - val_mae: 0.2690 - val_mse: 0.1090 - val_NSE: 0.8926 - val_r_square: 0.9162\n",
      "5 15 25 0\n",
      "Train on 8877500 samples, validate on 2885500 samples\n",
      "Epoch 1/15\n",
      "8877500/8877500 [==============================] - 379s 43us/sample - loss: 2.5309 - mape: 36.6894 - mae: 0.4413 - mse: 1.2232 - NSE: 0.0713 - r_square: 0.7440 - val_loss: 0.6605 - val_mape: 27.9309 - val_mae: 0.4238 - val_mse: 0.3135 - val_NSE: 0.6917 - val_r_square: 0.7311\n",
      "Epoch 2/15\n",
      "8877500/8877500 [==============================] - 382s 43us/sample - loss: 0.2620 - mape: 19.7450 - mae: 0.2542 - mse: 0.1185 - NSE: 0.9097 - r_square: 0.9147 - val_loss: 0.6667 - val_mape: 30.5478 - val_mae: 0.4376 - val_mse: 0.3169 - val_NSE: 0.6879 - val_r_square: 0.7115\n",
      "Epoch 3/15\n",
      "8877500/8877500 [==============================] - 384s 43us/sample - loss: 0.1796 - mape: 14.9195 - mae: 0.1922 - mse: 0.0774 - NSE: 0.9411 - r_square: 0.9441 - val_loss: 0.6963 - val_mape: 29.1752 - val_mae: 0.4158 - val_mse: 0.3316 - val_NSE: 0.6733 - val_r_square: 0.6926\n",
      "5 25 5 0\n",
      "Train on 8877500 samples, validate on 2885500 samples\n",
      "Epoch 1/15\n",
      "8877500/8877500 [==============================] - 354s 40us/sample - loss: 17.4734 - mape: 60.3588 - mae: 0.7081 - mse: 8.6716 - NSE: -5.6008 - r_square: 0.4625 - val_loss: 0.5972 - val_mape: 32.9337 - val_mae: 0.4075 - val_mse: 0.2819 - val_NSE: 0.7223 - val_r_square: 0.8018\n",
      "Epoch 2/15\n",
      "8877500/8877500 [==============================] - 356s 40us/sample - loss: 0.3334 - mape: 23.3487 - mae: 0.3007 - mse: 0.1541 - NSE: 0.8826 - r_square: 0.8901 - val_loss: 0.3432 - val_mape: 22.7764 - val_mae: 0.3030 - val_mse: 0.1546 - val_NSE: 0.8479 - val_r_square: 0.8918\n",
      "Epoch 3/15\n",
      "8877500/8877500 [==============================] - 354s 40us/sample - loss: 0.1838 - mape: 16.4524 - mae: 0.2049 - mse: 0.0796 - NSE: 0.9394 - r_square: 0.9469 - val_loss: 0.2435 - val_mape: 18.1921 - val_mae: 0.2501 - val_mse: 0.1049 - val_NSE: 0.8967 - val_r_square: 0.9084\n",
      "Epoch 4/15\n",
      "8877500/8877500 [==============================] - 354s 40us/sample - loss: 0.1530 - mape: 14.7660 - mae: 0.1817 - mse: 0.0642 - NSE: 0.9511 - r_square: 0.9567 - val_loss: 0.2096 - val_mape: 16.9856 - val_mae: 0.2345 - val_mse: 0.0879 - val_NSE: 0.9134 - val_r_square: 0.9180\n",
      "Epoch 5/15\n",
      "8877500/8877500 [==============================] - 353s 40us/sample - loss: 0.1081 - mape: 12.6414 - mae: 0.1507 - mse: 0.0416 - NSE: 0.9683 - r_square: 0.9727 - val_loss: 0.2050 - val_mape: 15.7765 - val_mae: 0.2233 - val_mse: 0.0859 - val_NSE: 0.9155 - val_r_square: 0.9360\n",
      "Epoch 6/15\n",
      "8877500/8877500 [==============================] - 353s 40us/sample - loss: 0.0757 - mape: 9.9714 - mae: 0.1190 - mse: 0.0253 - NSE: 0.9807 - r_square: 0.9840 - val_loss: 0.1873 - val_mape: 14.3372 - val_mae: 0.2077 - val_mse: 0.0772 - val_NSE: 0.9240 - val_r_square: 0.9440\n",
      "Epoch 7/15\n",
      "8877500/8877500 [==============================] - 354s 40us/sample - loss: 0.0652 - mape: 8.6936 - mae: 0.1064 - mse: 0.0202 - NSE: 0.9846 - r_square: 0.9875 - val_loss: 0.2228 - val_mape: 15.3944 - val_mae: 0.2194 - val_mse: 0.0950 - val_NSE: 0.9065 - val_r_square: 0.9393\n",
      "Epoch 8/15\n",
      "8877500/8877500 [==============================] - 355s 40us/sample - loss: 0.0626 - mape: 8.3573 - mae: 0.1026 - mse: 0.0189 - NSE: 0.9856 - r_square: 0.9882 - val_loss: 0.1557 - val_mape: 13.1751 - val_mae: 0.1912 - val_mse: 0.0613 - val_NSE: 0.9397 - val_r_square: 0.9514\n",
      "Epoch 9/15\n",
      "8877500/8877500 [==============================] - 355s 40us/sample - loss: 0.0603 - mape: 8.0654 - mae: 0.0992 - mse: 0.0178 - NSE: 0.9865 - r_square: 0.9889 - val_loss: 0.1604 - val_mape: 13.4666 - val_mae: 0.1897 - val_mse: 0.0637 - val_NSE: 0.9373 - val_r_square: 0.9523\n",
      "Epoch 10/15\n",
      "8877500/8877500 [==============================] - 356s 40us/sample - loss: 0.0587 - mape: 7.8652 - mae: 0.0968 - mse: 0.0170 - NSE: 0.9871 - r_square: 0.9894 - val_loss: 0.1667 - val_mape: 12.6702 - val_mae: 0.1866 - val_mse: 0.0668 - val_NSE: 0.9342 - val_r_square: 0.9530\n",
      "5 25 15 0\n",
      "Train on 8877500 samples, validate on 2885500 samples\n",
      "Epoch 1/15\n",
      "8877500/8877500 [==============================] - 387s 44us/sample - loss: 31.7856 - mape: 46.6292 - mae: 0.5722 - mse: 14.9966 - NSE: -10.5722 - r_square: 0.7266 - val_loss: 0.5562 - val_mape: 34.2122 - val_mae: 0.4194 - val_mse: 0.2611 - val_NSE: 0.7429 - val_r_square: 0.7558\n",
      "Epoch 2/15\n",
      "8877500/8877500 [==============================] - 387s 44us/sample - loss: 0.2776 - mape: 20.9523 - mae: 0.2700 - mse: 0.1264 - NSE: 0.9037 - r_square: 0.9094 - val_loss: 0.4970 - val_mape: 27.1362 - val_mae: 0.3754 - val_mse: 0.2317 - val_NSE: 0.7721 - val_r_square: 0.7775\n",
      "Epoch 3/15\n"
     ]
    },
    {
     "name": "stdout",
     "output_type": "stream",
     "text": [
      "8877500/8877500 [==============================] - 386s 44us/sample - loss: 0.1912 - mape: 16.4130 - mae: 0.2088 - mse: 0.0831 - NSE: 0.9367 - r_square: 0.9402 - val_loss: 0.7364 - val_mape: 32.4027 - val_mae: 0.4474 - val_mse: 0.3515 - val_NSE: 0.6537 - val_r_square: 0.6649\n",
      "Epoch 4/15\n",
      "8877500/8877500 [==============================] - 386s 43us/sample - loss: 0.1571 - mape: 14.3214 - mae: 0.1823 - mse: 0.0660 - NSE: 0.9498 - r_square: 0.9525 - val_loss: 0.7282 - val_mape: 33.4354 - val_mae: 0.4601 - val_mse: 0.3474 - val_NSE: 0.6581 - val_r_square: 0.6706\n",
      "5 25 25 0\n",
      "Train on 8877500 samples, validate on 2885500 samples\n",
      "Epoch 1/15\n",
      "8877500/8877500 [==============================] - 392s 44us/sample - loss: 3.6320 - mape: 37.2433 - mae: 0.4584 - mse: 1.7922 - NSE: -0.3232 - r_square: 0.7531 - val_loss: 0.5126 - val_mape: 22.4653 - val_mae: 0.3538 - val_mse: 0.2395 - val_NSE: 0.7647 - val_r_square: 0.8009\n",
      "Epoch 2/15\n",
      "8877500/8877500 [==============================] - 388s 44us/sample - loss: 0.1352 - mape: 14.3766 - mae: 0.1730 - mse: 0.0551 - NSE: 0.9580 - r_square: 0.9670 - val_loss: 0.2839 - val_mape: 18.7933 - val_mae: 0.2612 - val_mse: 0.1254 - val_NSE: 0.8767 - val_r_square: 0.8985\n",
      "Epoch 3/15\n",
      "8877500/8877500 [==============================] - 387s 44us/sample - loss: 0.0835 - mape: 10.1538 - mae: 0.1247 - mse: 0.0293 - NSE: 0.9777 - r_square: 0.9827 - val_loss: 0.2659 - val_mape: 16.8872 - val_mae: 0.2586 - val_mse: 0.1160 - val_NSE: 0.8858 - val_r_square: 0.8979\n",
      "Epoch 4/15\n",
      "8877500/8877500 [==============================] - 388s 44us/sample - loss: 0.0712 - mape: 8.6330 - mae: 0.1078 - mse: 0.0232 - NSE: 0.9824 - r_square: 0.9862 - val_loss: 0.2169 - val_mape: 15.2480 - val_mae: 0.2314 - val_mse: 0.0916 - val_NSE: 0.9099 - val_r_square: 0.9275\n",
      "Epoch 5/15\n",
      "8877500/8877500 [==============================] - 388s 44us/sample - loss: 0.0600 - mape: 7.5773 - mae: 0.0934 - mse: 0.0176 - NSE: 0.9866 - r_square: 0.9892 - val_loss: 0.1888 - val_mape: 14.9681 - val_mae: 0.2143 - val_mse: 0.0776 - val_NSE: 0.9236 - val_r_square: 0.9311\n",
      "Epoch 6/15\n",
      "8877500/8877500 [==============================] - 386s 43us/sample - loss: 0.0516 - mape: 6.5642 - mae: 0.0815 - mse: 0.0134 - NSE: 0.9898 - r_square: 0.9918 - val_loss: 0.1884 - val_mape: 15.8666 - val_mae: 0.2166 - val_mse: 0.0776 - val_NSE: 0.9238 - val_r_square: 0.9296\n",
      "Epoch 7/15\n",
      "8877500/8877500 [==============================] - 386s 43us/sample - loss: 0.0477 - mape: 6.0297 - mae: 0.0750 - mse: 0.0114 - NSE: 0.9913 - r_square: 0.9929 - val_loss: 0.2329 - val_mape: 17.0263 - val_mae: 0.2404 - val_mse: 0.1000 - val_NSE: 0.9017 - val_r_square: 0.9158\n",
      "Epoch 8/15\n",
      "8877500/8877500 [==============================] - 386s 43us/sample - loss: 0.0453 - mape: 5.7104 - mae: 0.0712 - mse: 0.0102 - NSE: 0.9922 - r_square: 0.9935 - val_loss: 0.2193 - val_mape: 17.6605 - val_mae: 0.2370 - val_mse: 0.0933 - val_NSE: 0.9081 - val_r_square: 0.9140\n"
     ]
    }
   ],
   "source": [
    "for reg in reg_consts:\n",
    "    for n1 in layer_1_neurons:\n",
    "        for n2 in layer_2_neurons:\n",
    "            for n3 in layer_3_neurons:\n",
    "                print(n1,n2,n3,reg)\n",
    "                K.clear_session()\n",
    "                model = Sequential()\n",
    "                #model.add(Dense(n1, activation = 'relu', input_shape = (1,)))\n",
    "                model.add(Dense(n1, activation = 'relu', kernel_regularizer=l2(reg),input_shape = (5,)))\n",
    "                model.add(Dense(n2, activation = 'relu', kernel_regularizer=l2(reg)))\n",
    "                model.add(Dense(n3, activation = 'relu', kernel_regularizer=l2(reg)))\n",
    "\n",
    "                model.add(Dense(2))\n",
    "                grads_u = K.gradients(model.output[:,0], model.input)[0]\n",
    "                grads_h = K.gradients(model.output[:,1], model.input)[0]\n",
    "\n",
    "\n",
    "                du_dx, du_dt, dh_dx = grads_u[:,0],grads_u[:,1],grads_h[:,0]\n",
    "                calc_grads_inputs = K.stack((du_dx, du_dt, dh_dx, model.input[:,3],model.input[:,4]), axis=1)\n",
    "                # model.summary()\n",
    "                #Compile the model\n",
    "                model.compile(optimizer = 'adam', loss = [mse], metrics=['mape', 'mae', 'mse',NSE, r_square])\n",
    "                #fit the model\n",
    "                early_stopping_monitor = EarlyStopping(patience = 2, verbose=False)\n",
    "                history = model.fit(X_train,Y_train, epochs=epochs, batch_size=128, validation_data=(X_val,Y_val), callbacks=[early_stopping_monitor])\n",
    "\n",
    "                # Saving results\n",
    "                val_loss = history.history['val_loss'][-1]\n",
    "                val_mae = history.history['val_mae'][-1]\n",
    "                val_mse = history.history['val_mse'][-1]\n",
    "                val_mape = history.history['val_mape'][-1]\n",
    "                val_nse = history.history['val_NSE'][-1]\n",
    "                val_r_square = history.history['val_r_square'][-1]\n",
    "\n",
    "                results = results.append({'n1':n1,'n2':n2,'n3':n3, 'epochs':len(history.history['val_loss']),\n",
    "                              'reg':reg,'val_r2':val_r_square, 'val_nse':val_nse, 'val_mse':val_mse, 'val_loss':val_loss,\n",
    "                                        'val_mae':val_mae, 'val_mape':val_mape}, ignore_index=True)\n",
    "                if val_loss < best_val_loss:\n",
    "                    best_val_loss = val_loss\n",
    "                    best_model = model\n",
    "                    best_n1 = n1\n",
    "                    best_n2 = n2\n",
    "                    best_n3 = n3\n",
    "                    best_reg = reg\n",
    "                    best_history = history\n",
    "                    model.save(save_model_path)\n",
    "                    results.to_csv(save_results_path)\n",
    "                    \n",
    "results.to_csv(save_results_path)"
   ]
  },
  {
   "cell_type": "markdown",
   "metadata": {},
   "source": [
    "#### Model Summary"
   ]
  },
  {
   "cell_type": "code",
   "execution_count": null,
   "metadata": {
    "execution": {
     "iopub.execute_input": "2020-09-03T19:12:39.213568Z",
     "iopub.status.busy": "2020-09-03T19:12:39.212520Z",
     "iopub.status.idle": "2020-09-03T19:12:39.216280Z",
     "shell.execute_reply": "2020-09-03T19:12:39.217164Z"
    },
    "papermill": {
     "duration": 0.812572,
     "end_time": "2020-09-03T19:12:39.217375",
     "exception": false,
     "start_time": "2020-09-03T19:12:38.404803",
     "status": "completed"
    },
    "tags": []
   },
   "outputs": [],
   "source": [
    "best_model.summary()"
   ]
  },
  {
   "cell_type": "markdown",
   "metadata": {},
   "source": [
    "#### Loss vs Epcohs Visualization "
   ]
  },
  {
   "cell_type": "code",
   "execution_count": null,
   "metadata": {},
   "outputs": [],
   "source": [
    "train_loss = best_history.history['loss']\n",
    "val_loss = best_history.history['val_loss']    \n",
    "plt.style.use('seaborn-whitegrid')\n",
    "ax = plt.axes()\n",
    "plt.plot(np.arange(len(train_loss)),train_loss, label ='train loss')\n",
    "plt.plot(np.arange(len(val_loss)),val_loss, label ='validation loss')\n",
    "plt.legend()\n",
    "# plt.xticks(test['Time'].tolist()[::30], rotation = 45)\n",
    "plt.xlabel('Epochs')\n",
    "plt.ylabel('Loss (MSE)')\n",
    "plt.title('Loss vs Epochs')\n",
    "plt.show()\n",
    "plt.savefig('/Users/ge72vep/Desktop/thesis/results/physics_loss_15_5_15.png', dpi=800) ######## Check the data path ######## "
   ]
  }
 ],
 "metadata": {
  "kernelspec": {
   "display_name": "thesis",
   "language": "python",
   "name": "thesis"
  },
  "language_info": {
   "codemirror_mode": {
    "name": "ipython",
    "version": 3
   },
   "file_extension": ".py",
   "mimetype": "text/x-python",
   "name": "python",
   "nbconvert_exporter": "python",
   "pygments_lexer": "ipython3",
   "version": "3.7.6"
  },
  "papermill": {
   "duration": 1095.738968,
   "end_time": "2020-09-03T19:12:53.052539",
   "environment_variables": {},
   "exception": null,
   "input_path": "__notebook__.ipynb",
   "output_path": "__notebook__.ipynb",
   "parameters": {},
   "start_time": "2020-09-03T18:54:37.313571",
   "version": "2.1.0"
  }
 },
 "nbformat": 4,
 "nbformat_minor": 4
}
