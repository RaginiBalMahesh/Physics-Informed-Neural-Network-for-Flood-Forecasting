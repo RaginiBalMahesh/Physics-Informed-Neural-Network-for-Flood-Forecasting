{
 "cells": [
  {
   "cell_type": "markdown",
   "metadata": {},
   "source": [
    "#### PINN trainig and validation file for 3 sec or 5 sec model for timestep sensitivity analysis"
   ]
  },
  {
   "cell_type": "code",
   "execution_count": 1,
   "metadata": {
    "execution": {
     "iopub.execute_input": "2020-09-03T18:54:43.700689Z",
     "iopub.status.busy": "2020-09-03T18:54:43.699893Z",
     "iopub.status.idle": "2020-09-03T18:54:51.337199Z",
     "shell.execute_reply": "2020-09-03T18:54:51.336347Z"
    },
    "papermill": {
     "duration": 7.66074,
     "end_time": "2020-09-03T18:54:51.337335",
     "exception": false,
     "start_time": "2020-09-03T18:54:43.676595",
     "status": "completed"
    },
    "tags": []
   },
   "outputs": [],
   "source": [
    "#import libraries\n",
    "import pandas as pd\n",
    "import numpy as np\n",
    "import matplotlib.pyplot as plt\n",
    "from tensorflow.keras.models import Sequential\n",
    "from tensorflow.keras.layers import Dense\n",
    "from tensorflow.keras.callbacks import EarlyStopping, TensorBoard\n",
    "from tensorflow.keras.regularizers import l2\n",
    "from tensorflow.keras import backend as K\n",
    "# from tensorflow import keras\n",
    "import tensorflow as tf\n",
    "\n",
    "# %load_ext tensorboard\n",
    "# import tensorboard\n",
    "import os"
   ]
  },
  {
   "cell_type": "code",
   "execution_count": 2,
   "metadata": {
    "execution": {
     "iopub.execute_input": "2020-09-03T18:54:51.362612Z",
     "iopub.status.busy": "2020-09-03T18:54:51.361681Z",
     "iopub.status.idle": "2020-09-03T18:54:51.364781Z",
     "shell.execute_reply": "2020-09-03T18:54:51.364047Z"
    },
    "papermill": {
     "duration": 0.017802,
     "end_time": "2020-09-03T18:54:51.364901",
     "exception": false,
     "start_time": "2020-09-03T18:54:51.347099",
     "status": "completed"
    },
    "tags": []
   },
   "outputs": [],
   "source": [
    "from datetime import datetime\n",
    "from tensorflow.python.framework.ops import disable_eager_execution\n",
    "\n",
    "disable_eager_execution()"
   ]
  },
  {
   "cell_type": "markdown",
   "metadata": {
    "papermill": {
     "duration": 0.008631,
     "end_time": "2020-09-03T18:54:51.384383",
     "exception": false,
     "start_time": "2020-09-03T18:54:51.375752",
     "status": "completed"
    },
    "tags": []
   },
   "source": [
    "#### Data Paths"
   ]
  },
  {
   "cell_type": "code",
   "execution_count": 4,
   "metadata": {},
   "outputs": [],
   "source": [
    "BASE_DIR_PATH = '/Users/ge72vep/Desktop/thesis/'\n",
    "DATA_PATH = 'Data/Model_8/'\n",
    "MODEL_PATH = 'models/model_8_exe_5_secs_batch1.h5' ######## Check the data path ######## \n",
    "IMAGES_PATH = 'results/images/'\n",
    "VIDEOS_PATH = 'results/videos/'\n",
    "EXP_NAME = 'physics_exp_5sec_M8_batch1' ######## Check file name ######## \n",
    "VIDEO_NAME = 'phy_5sec_M8_batch1'  ######## Check file name ######## "
   ]
  },
  {
   "cell_type": "code",
   "execution_count": 5,
   "metadata": {},
   "outputs": [],
   "source": [
    "PATH_TO_DATA = os.path.join(BASE_DIR_PATH, DATA_PATH)\n",
    "save_model_path = os.path.join(BASE_DIR_PATH, MODEL_PATH)\n",
    "save_images_path = os.path.join(BASE_DIR_PATH, IMAGES_PATH, EXP_NAME)\n",
    "save_video_path = os.path.join(BASE_DIR_PATH, VIDEOS_PATH, VIDEO_NAME)\n",
    "save_results_path = os.path.join(BASE_DIR_PATH, 'models', EXP_NAME+'.csv')"
   ]
  },
  {
   "cell_type": "markdown",
   "metadata": {
    "papermill": {
     "duration": 0.00855,
     "end_time": "2020-09-03T18:54:51.428366",
     "exception": false,
     "start_time": "2020-09-03T18:54:51.419816",
     "status": "completed"
    },
    "tags": []
   },
   "source": [
    "\n",
    "#### Loading dataset\n",
    "\n"
   ]
  },
  {
   "cell_type": "code",
   "execution_count": 6,
   "metadata": {
    "execution": {
     "iopub.execute_input": "2020-09-03T18:54:51.456883Z",
     "iopub.status.busy": "2020-09-03T18:54:51.456152Z",
     "iopub.status.idle": "2020-09-03T18:55:20.110167Z",
     "shell.execute_reply": "2020-09-03T18:55:20.109464Z"
    },
    "papermill": {
     "duration": 28.673092,
     "end_time": "2020-09-03T18:55:20.110292",
     "exception": false,
     "start_time": "2020-09-03T18:54:51.437200",
     "status": "completed"
    },
    "tags": []
   },
   "outputs": [],
   "source": [
    "train_df = pd.read_csv(os.path.join(PATH_TO_DATA, 'train.csv'))\n",
    "val_df = pd.read_csv(os.path.join(PATH_TO_DATA, 'val.csv'))"
   ]
  },
  {
   "cell_type": "code",
   "execution_count": 8,
   "metadata": {},
   "outputs": [],
   "source": [
    "train_df = train_df.sort_values(['identifier','x','time']).reset_index(drop=True)\n",
    "val_df = val_df.sort_values(['identifier','x','time']).reset_index(drop=True)"
   ]
  },
  {
   "cell_type": "markdown",
   "metadata": {},
   "source": [
    "### Change t to 3 or 5 seconds accordingly"
   ]
  },
  {
   "cell_type": "code",
   "execution_count": 10,
   "metadata": {},
   "outputs": [],
   "source": [
    "t = 3\n",
    "train_df = train_df.iloc[::t].reset_index(drop=True)\n",
    "val_df = val_df.iloc[::t].reset_index(drop=True)\n",
    "#test_df = test_df.iloc[::t].reset_index(drop=True)\n"
   ]
  },
  {
   "cell_type": "code",
   "execution_count": 11,
   "metadata": {
    "execution": {
     "iopub.execute_input": "2020-09-03T18:55:20.590412Z",
     "iopub.status.busy": "2020-09-03T18:55:20.589341Z",
     "iopub.status.idle": "2020-09-03T18:56:42.362580Z",
     "shell.execute_reply": "2020-09-03T18:56:42.361758Z"
    },
    "papermill": {
     "duration": 82.242915,
     "end_time": "2020-09-03T18:56:42.362715",
     "exception": false,
     "start_time": "2020-09-03T18:55:20.119800",
     "status": "completed"
    },
    "tags": []
   },
   "outputs": [],
   "source": [
    "X_train = np.array(train_df[['x','time', 'q', 'friction_coeff', 'slope']].values.tolist())\n",
    "X_val = np.array(val_df[['x','time', 'q', 'friction_coeff', 'slope']].values.tolist())\n",
    "#X_test = np.array(test_df[['x','time', 'q', 'friction_coeff', 'slope']].values.tolist())"
   ]
  },
  {
   "cell_type": "code",
   "execution_count": 12,
   "metadata": {
    "execution": {
     "iopub.execute_input": "2020-09-03T18:57:21.606283Z",
     "iopub.status.busy": "2020-09-03T18:56:59.759759Z",
     "iopub.status.idle": "2020-09-03T18:57:37.604965Z",
     "shell.execute_reply": "2020-09-03T18:57:37.604326Z"
    },
    "papermill": {
     "duration": 55.232753,
     "end_time": "2020-09-03T18:57:37.605097",
     "exception": false,
     "start_time": "2020-09-03T18:56:42.372344",
     "status": "completed"
    },
    "tags": []
   },
   "outputs": [],
   "source": [
    "Y_train = np.array(train_df[['u','h']].values.tolist())\n",
    "Y_val = np.array(val_df[['u','h']].values.tolist())\n",
    "#Y_test = np.array(test_df[['u','h']].values.tolist())"
   ]
  },
  {
   "cell_type": "markdown",
   "metadata": {
    "papermill": {
     "duration": 0.008895,
     "end_time": "2020-09-03T18:57:37.623182",
     "exception": false,
     "start_time": "2020-09-03T18:57:37.614287",
     "status": "completed"
    },
    "tags": []
   },
   "source": [
    "#### Params"
   ]
  },
  {
   "cell_type": "code",
   "execution_count": 13,
   "metadata": {
    "execution": {
     "iopub.execute_input": "2020-09-03T18:57:37.646495Z",
     "iopub.status.busy": "2020-09-03T18:57:37.645744Z",
     "iopub.status.idle": "2020-09-03T18:57:37.649313Z",
     "shell.execute_reply": "2020-09-03T18:57:37.648580Z"
    },
    "papermill": {
     "duration": 0.017209,
     "end_time": "2020-09-03T18:57:37.649445",
     "exception": false,
     "start_time": "2020-09-03T18:57:37.632236",
     "status": "completed"
    },
    "tags": []
   },
   "outputs": [],
   "source": [
    "epochs= 15"
   ]
  },
  {
   "cell_type": "markdown",
   "metadata": {
    "papermill": {
     "duration": 0.008778,
     "end_time": "2020-09-03T18:57:37.667128",
     "exception": false,
     "start_time": "2020-09-03T18:57:37.658350",
     "status": "completed"
    },
    "tags": []
   },
   "source": [
    "#### Model  with grid search"
   ]
  },
  {
   "cell_type": "code",
   "execution_count": 14,
   "metadata": {
    "execution": {
     "iopub.execute_input": "2020-09-03T18:57:37.690242Z",
     "iopub.status.busy": "2020-09-03T18:57:37.689541Z",
     "iopub.status.idle": "2020-09-03T18:57:37.692914Z",
     "shell.execute_reply": "2020-09-03T18:57:37.692342Z"
    },
    "papermill": {
     "duration": 0.017064,
     "end_time": "2020-09-03T18:57:37.693031",
     "exception": false,
     "start_time": "2020-09-03T18:57:37.675967",
     "status": "completed"
    },
    "tags": []
   },
   "outputs": [],
   "source": [
    "best_val_loss = np.inf\n",
    "best_model = -1 "
   ]
  },
  {
   "cell_type": "code",
   "execution_count": 15,
   "metadata": {
    "execution": {
     "iopub.execute_input": "2020-09-03T18:57:37.723239Z",
     "iopub.status.busy": "2020-09-03T18:57:37.722249Z",
     "iopub.status.idle": "2020-09-03T18:57:37.725716Z",
     "shell.execute_reply": "2020-09-03T18:57:37.724996Z"
    },
    "papermill": {
     "duration": 0.023284,
     "end_time": "2020-09-03T18:57:37.725823",
     "exception": false,
     "start_time": "2020-09-03T18:57:37.702539",
     "status": "completed"
    },
    "tags": []
   },
   "outputs": [],
   "source": [
    "results = pd.DataFrame(columns=['n1','n2','n3', 'epochs', 'reg',\n",
    "                               'val_r2', 'val_nse', 'val_mse', 'val_mae', 'val_mape'])\n",
    "layer_1_neurons = np.arange(5,6,10)   ######## Check the number of neurons ########\n",
    "layer_2_neurons = np.arange(5,26,10)   ######## Check the number of neurons ########\n",
    "layer_3_neurons = np.arange(5,26,10) ######## Check the number of neurons ########\n",
    "reg_consts = [0]"
   ]
  },
  {
   "cell_type": "markdown",
   "metadata": {},
   "source": [
    "#### Evaluation Metrics"
   ]
  },
  {
   "cell_type": "code",
   "execution_count": 16,
   "metadata": {
    "execution": {
     "iopub.execute_input": "2020-09-03T18:57:37.752901Z",
     "iopub.status.busy": "2020-09-03T18:57:37.752081Z",
     "iopub.status.idle": "2020-09-03T18:57:37.755228Z",
     "shell.execute_reply": "2020-09-03T18:57:37.754686Z"
    },
    "papermill": {
     "duration": 0.020527,
     "end_time": "2020-09-03T18:57:37.755338",
     "exception": false,
     "start_time": "2020-09-03T18:57:37.734811",
     "status": "completed"
    },
    "tags": []
   },
   "outputs": [],
   "source": [
    "def r_square(y_true, y_pred):\n",
    "    x = y_true\n",
    "    y = y_pred\n",
    "    mx = K.mean(x, axis=0)\n",
    "    my = K.mean(y, axis=0)\n",
    "    xm, ym = x - mx, y - my\n",
    "    r_num = K.square(K.sum(xm * ym))\n",
    "    x_square_sum = K.sum(xm * xm)\n",
    "    y_square_sum = K.sum(ym * ym)\n",
    "    r_den = (x_square_sum * y_square_sum) + K.epsilon()\n",
    "    \n",
    "    r = r_num / r_den\n",
    "    return r"
   ]
  },
  {
   "cell_type": "code",
   "execution_count": 17,
   "metadata": {
    "execution": {
     "iopub.execute_input": "2020-09-03T18:57:37.781819Z",
     "iopub.status.busy": "2020-09-03T18:57:37.780806Z",
     "iopub.status.idle": "2020-09-03T18:57:37.783340Z",
     "shell.execute_reply": "2020-09-03T18:57:37.783923Z"
    },
    "papermill": {
     "duration": 0.019312,
     "end_time": "2020-09-03T18:57:37.784065",
     "exception": false,
     "start_time": "2020-09-03T18:57:37.764753",
     "status": "completed"
    },
    "tags": []
   },
   "outputs": [],
   "source": [
    "def NSE(y_true, y_pred):\n",
    "\n",
    "    y_pred = K.flatten(y_pred)\n",
    "    y_true = K.flatten(y_true)\n",
    "\n",
    "    \n",
    "    SS_res =  K.sum(K.square(y_true - y_pred)) \n",
    "    SS_tot = K.sum(K.square(y_true - K.mean(y_true))) \n",
    "    \n",
    "    return ( 1 - SS_res/(SS_tot + K.epsilon()) )"
   ]
  },
  {
   "cell_type": "code",
   "execution_count": 18,
   "metadata": {
    "execution": {
     "iopub.execute_input": "2020-09-03T18:57:37.814038Z",
     "iopub.status.busy": "2020-09-03T18:57:37.813231Z",
     "iopub.status.idle": "2020-09-03T18:57:37.816289Z",
     "shell.execute_reply": "2020-09-03T18:57:37.815740Z"
    },
    "papermill": {
     "duration": 0.023217,
     "end_time": "2020-09-03T18:57:37.816410",
     "exception": false,
     "start_time": "2020-09-03T18:57:37.793193",
     "status": "completed"
    },
    "tags": []
   },
   "outputs": [],
   "source": [
    "def custom_loss(grads_inputs):\n",
    "    du_dx, du_dt, dh_dx, fric_coeff, slope = grads_inputs[:,0], grads_inputs[:,1], grads_inputs[:,2], grads_inputs[:,3], grads_inputs[:,4]\n",
    "    g = K.constant(9.8)\n",
    "    # Create a loss function that adds the MSE loss to the mean of all squared activations of a specific layer\n",
    "    def loss(y_true,y_pred):\n",
    "        loss_saint_venant = du_dt + y_pred[:,0] * du_dx + g*dh_dx + g*slope + g*K.square(fric_coeff) * K.square(y_true[:,0])/(K.pow(y_true[:,1], 4/3) + K.epsilon())\n",
    "        l = K.mean(K.square(loss_saint_venant))\n",
    "\n",
    "        return l+ K.sum(K.mean(K.square(y_pred - y_true), axis=0))\n",
    "   \n",
    "    # Return a function\n",
    "    return loss"
   ]
  },
  {
   "cell_type": "markdown",
   "metadata": {},
   "source": [
    "#### Defining Model "
   ]
  },
  {
   "cell_type": "code",
   "execution_count": 19,
   "metadata": {
    "execution": {
     "iopub.execute_input": "2020-09-03T18:57:37.859913Z",
     "iopub.status.busy": "2020-09-03T18:57:37.858948Z",
     "iopub.status.idle": "2020-09-03T19:08:09.137913Z",
     "shell.execute_reply": "2020-09-03T19:08:09.137246Z"
    },
    "papermill": {
     "duration": 631.312345,
     "end_time": "2020-09-03T19:08:09.138043",
     "exception": false,
     "start_time": "2020-09-03T18:57:37.825698",
     "status": "completed"
    },
    "scrolled": true,
    "tags": []
   },
   "outputs": [
    {
     "name": "stdout",
     "output_type": "stream",
     "text": [
      "5 5 5 0\n",
      "WARNING:tensorflow:From D:\\Users\\ge72vep\\.conda\\envs\\thesis\\lib\\site-packages\\tensorflow_core\\python\\ops\\resource_variable_ops.py:1635: calling BaseResourceVariable.__init__ (from tensorflow.python.ops.resource_variable_ops) with constraint is deprecated and will be removed in a future version.\n",
      "Instructions for updating:\n",
      "If using Keras pass *_constraint arguments to layers.\n",
      "Train on 1775500 samples, validate on 577100 samples\n",
      "Epoch 1/15\n",
      "1775500/1775500 [==============================] - 61s 34us/sample - loss: 153.4158 - mape: 117.9652 - mae: 1.3376 - mse: 76.5540 - NSE: -58.2322 - r_square: 0.4947 - val_loss: 0.5823 - val_mape: 27.0864 - val_mae: 0.4045 - val_mse: 0.2827 - val_NSE: 0.7221 - val_r_square: 0.7794A: 1:04 - loss: 5023.8061 - mape: 2322.0083 - mae: 23.8548 - mse: 2506.9934 - NSE: -1939.335 - ETA: 56s - loss: 3211.3038 - mape: 1520.2954 - mae: 15.7562 - mse: 1602.512 - ETA: 51s - loss: 1900.0978 - mape: 935.7551 - mae: 9.8292 - mse: 948.1909 - ETA: 48s - loss: 1479.0225 - mape: 746.0419 - mae: 7.8946 - ETA: 45s - loss: 1127.2074  - ETA: 40s - loss: 695.7907 - mape: 387.7003 - mae: 4.2137 - mse: 347.2130 - NSE: -267.7002  - ETA: 39s - loss: 635.3333 - mape: 359.9210 - mae: 3.9247 - mse: 317.0432 - NSE: - - ETA: 37s - loss: 562.5798 - mape: 326.0482 - mae: 3.5677 - mse: 280.7372 - NSE: -216.2500 - r_square: 0. - ETA: 37s - loss: 551.4961 - mape: 320.8517 - mae: 3.5125 - mse: 275.2061 - NSE: -211.96 - ETA: 36s - loss: 506.1114 - mape: 299.3893 - mae: 3.2849 - mse: 252.5578 - NSE: -194.4410 - r_sq - ETA: 35s - loss: 482.3637 - mape: 287.9298 - mae: 3.1637 - mse: 240.7070 - NSE: -185.2693 - r_square: 0 - ETA: 34s - loss: 472.7197 - mape: 283.2438 - mae: 3.1140 - mse: 235.8943 - NSE: -181 - ETA: 33s - loss: 432.4569 - mape: 263.47 - ETA: 28s - loss: 345.8367 - mape: 219.8289 - mae: 2.4310 - mse: 172.5766 - NSE: -132.5447 - r - ETA: 27s - loss: 333.0638 - mape: 213.3084 - mae: 2.3609 - mse: 166.2025 - NSE: -127.6119 - r_square: 0.224 - ETA: 27s - loss: 332.2839 - mape: 212.9116 - mae: 2.3567 - mse: 165.8133 - NSE: -127.3107 - r_square: 0.225 - ETA: 27s - loss: 331.5592 - mape: 212.5408 - mae: 2.3527 - mse: 165.4517 - NSE: -127.0309 - r_square: 0.226 - ETA: 27s - loss: 330.9920 - mape: 212.2520 - mae: 2.3495 - mse: 1 - ETA: 24s - loss: 295.4024 - mape: 194.0186 - mae: 2.1534 - mse: 147.408 - ETA: 21s - loss: 271.1506 - mape: 181.5102 - mae: 2.0191 - mse: 135.3064 - NSE: - ETA: 20s - loss: 258.1754 - mape: 174.7 - ETA: 6s - loss: 177.927 - ETA: 3s - loss: 166.9126 - mape: 125.4219 - mae: 1.4175 - m - ETA: 2s - loss: 161.3528 - mape: 122.3717 - mae: 1.3847 - mse - ETA: 1s - loss: 156.6445 - mape: 119.7582 - mae: 1.3568 - mse: 78.1652 - NSE: -59.4829 - r_sq - ETA: 0s - loss: 155.5951 - mape: 119.1768 - mae: 1.3506 - mse: 77.6416 - NSE: -\n",
      "Epoch 2/15\n",
      "1775500/1775500 [==============================] - 66s 37us/sample - loss: 0.5779 - mape: 30.7355 - mae: 0.4015 - mse: 0.2827 - NSE: 0.7848 - r_square: 0.7952 - val_loss: 0.4041 - val_mape: 24.6705 - val_mae: 0.3376 - val_mse: 0.1937 - val_NSE: 0.8097 - val_r_square: 0.8262\n",
      "Epoch 3/15\n",
      "1775500/1775500 [==============================] - 69s 39us/sample - loss: 0.5058 - mape: 28.8617 - mae: 0.3764 - mse: 0.2467 - NSE: 0.8122 - r_square: 0.8210 - val_loss: 0.3779 - val_mape: 26.3472 - val_mae: 0.3257 - val_mse: 0.1805 - val_NSE: 0.8226 - val_r_square: 0.8307\n",
      "Epoch 4/15\n",
      "1775500/1775500 [==============================] - 65s 37us/sample - loss: 0.4647 - mape: 27.6272 - mae: 0.3612 - mse: 0.2261 - NSE: 0.8277 - r_square: 0.8355 - val_loss: 0.5915 - val_mape: 26.5004 - val_mae: 0.3981 - val_mse: 0.2874 - val_NSE: 0.7178 - val_r_square: 0.75802 - NSE:\n",
      "5 5 15 0\n",
      "Train on 1775500 samples, validate on 577100 samples\n",
      "Epoch 1/15\n",
      "1775500/1775500 [==============================] - 70s 40us/sample - loss: 3.0733 - mape: 47.4664 - mae: 0.5855 - mse: 1.5286 - NSE: -0.1358 - r_square: 0.6213 - val_loss: 0.7179 - val_mape: 25.9661 - val_mae: 0.4239 - val_mse: 0.3507 - val_NSE: 0.6544 - val_r_square: 0.7462oss: 22.6652 - - ETA: 40s - lo - ETA: 37s - loss: 6.3915 - mape: 61.5572 - mae: 0.7306 - mse: 3.1853 - N - ETA: 36s - loss: 6.1648 - map - ETA: 33s - loss: 5.7455 - mape: 59.4345 - mae: 0.7081 - mse: 2.8627 - NSE: -1.1194 - r_ - ETA: 28s - loss: 5.1331 - mape: 57.4709 - mae: 0.6867 - mse: 2.55 - ETA - ETA: 16s - loss: 4.0125 - mape: 53.0510 -\n",
      "Epoch 2/15\n",
      "1775500/1775500 [==============================] - 70s 39us/sample - loss: 0.5576 - mape: 30.3073 - mae: 0.3954 - mse: 0.2726 - NSE: 0.7928 - r_square: 0.8004 - val_loss: 0.5334 - val_mape: 26.8579 - val_mae: 0.3862 - val_mse: 0.2583 - val_NSE: 0.7456 - val_r_square: 0.7712\n",
      "Epoch 3/15\n",
      "1775500/1775500 [==============================] - 69s 39us/sample - loss: 0.5130 - mape: 30.1385 - mae: 0.3871 - mse: 0.2503 - NSE: 0.8096 - r_square: 0.8162 - val_loss: 0.3983 - val_mape: 26.8744 - val_mae: 0.3445 - val_mse: 0.1907 - val_NSE: 0.8124 - val_r_square: 0.8171\n",
      "Epoch 4/15\n",
      "1775500/1775500 [==============================] - 69s 39us/sample - loss: 0.4949 - mape: 29.8933 - mae: 0.3820 - mse: 0.2413 - NSE: 0.8165 - r_square: 0.8228 - val_loss: 0.3889 - val_mape: 24.3426 - val_mae: 0.3330 - val_mse: 0.1860 - val_NSE: 0.8172 - val_r_square: 0.8290\n",
      "Epoch 5/15\n",
      "1775500/1775500 [==============================] - 68s 39us/sample - loss: 0.4633 - mape: 28.9772 - mae: 0.3711 - mse: 0.2254 - NSE: 0.8285 - r_square: 0.8346 - val_loss: 0.4773 - val_mape: 27.3450 - val_mae: 0.3726 - val_mse: 0.2302 - val_NSE: 0.7735 - val_r_square: 0.8012\n",
      "5 5 25 0\n",
      "Train on 1775500 samples, validate on 577100 samples\n",
      "Epoch 1/15\n",
      "1775500/1775500 [==============================] - 73s 41us/sample - loss: 326.5370 - mape: 126.4450 - mae: 1.4309 - mse: 163.2562 - NSE: -122.6870 - r_square: 0.2643 - val_loss: 1.0003 - val_mape: 41.6874 - val_mae: 0.5347 - val_mse: 0.4886 - val_NSE: 0.5211 - val_r_square: 0.5304\n",
      "Epoch 2/15\n",
      "1775500/1775500 [==============================] - 72s 41us/sample - loss: 0.8878 - mape: 38.8339 - mae: 0.4899 - mse: 0.4359 - NSE: 0.6689 - r_square: 0.6948 - val_loss: 0.4705 - val_mape: 23.9791 - val_mae: 0.3542 - val_mse: 0.2263 - val_NSE: 0.7769 - val_r_square: 0.8105\n",
      "Epoch 3/15\n",
      "1775500/1775500 [==============================] - 72s 41us/sample - loss: 0.4525 - mape: 28.4108 - mae: 0.3586 - mse: 0.2198 - NSE: 0.8327 - r_square: 0.8429 - val_loss: 0.4441 - val_mape: 27.3774 - val_mae: 0.3610 - val_mse: 0.2132 - val_NSE: 0.7899 - val_r_square: 0.7955\n",
      "Epoch 4/15\n",
      "1775500/1775500 [==============================] - 72s 41us/sample - loss: 0.3861 - mape: 26.5592 - mae: 0.3341 - mse: 0.1868 - NSE: 0.8577 - r_square: 0.8653 - val_loss: 0.6827 - val_mape: 29.1750 - val_mae: 0.4395 - val_mse: 0.3328 - val_NSE: 0.6717 - val_r_square: 0.7125\n",
      "5 15 5 0\n",
      "Train on 1775500 samples, validate on 577100 samples\n",
      "Epoch 1/15\n",
      "1775500/1775500 [==============================] - 74s 41us/sample - loss: 218.9602 - mape: 104.6636 - mae: 1.2881 - mse: 108.7640 - NSE: -80.8668 - r_square: 0.3769 - val_loss: 0.6658 - val_mape: 32.2176 - val_mae: 0.4469 - val_mse: 0.3247 - val_NSE: 0.6805 - val_r_square: 0.7353\n",
      "Epoch 2/15\n",
      "1775500/1775500 [==============================] - 70s 40us/sample - loss: 0.6924 - mape: 33.8281 - mae: 0.4419 - mse: 0.3399 - NSE: 0.7419 - r_square: 0.7539 - val_loss: 0.3494 - val_mape: 25.8334 - val_mae: 0.3227 - val_mse: 0.1663 - val_NSE: 0.8363 - val_r_square: 0.8365\n",
      "Epoch 3/15\n",
      "1775500/1775500 [==============================] - 70s 40us/sample - loss: 0.4604 - mape: 27.8525 - mae: 0.3625 - mse: 0.2240 - NSE: 0.8295 - r_square: 0.8393 - val_loss: 0.7185 - val_mape: 28.8146 - val_mae: 0.4386 - val_mse: 0.3509 - val_NSE: 0.6552 - val_r_square: 0.6815\n",
      "5 15 15 0\n",
      "Train on 1775500 samples, validate on 577100 samples\n",
      "Epoch 1/15\n",
      "1775500/1775500 [==============================] - 77s 43us/sample - loss: 103.4102 - mape: 118.8229 - mae: 1.3264 - mse: 50.9515 - NSE: -37.4225 - r_square: 0.1753 - val_loss: 1.2390 - val_mape: 63.1436 - val_mae: 0.6426 - val_mse: 0.6111 - val_NSE: 0.3975 - val_r_square: 0.5830\n",
      "Epoch 2/15\n",
      "1775500/1775500 [==============================] - 78s 44us/sample - loss: 1.0700 - mape: 47.5358 - mae: 0.5592 - mse: 0.5286 - NSE: 0.5983 - r_square: 0.6774 - val_loss: 0.9284 - val_mape: 55.7771 - val_mae: 0.5390 - val_mse: 0.4553 - val_NSE: 0.5511 - val_r_square: 0.7045\n",
      "Epoch 3/15\n",
      "1775500/1775500 [==============================] - 78s 44us/sample - loss: 0.8192 - mape: 40.7953 - mae: 0.4831 - mse: 0.4033 - NSE: 0.6929 - r_square: 0.7415 - val_loss: 0.6645 - val_mape: 41.7765 - val_mae: 0.4608 - val_mse: 0.3237 - val_NSE: 0.6808 - val_r_square: 0.7410\n",
      "Epoch 4/15\n",
      "1775500/1775500 [==============================] - 78s 44us/sample - loss: 0.7165 - mape: 38.6849 - mae: 0.4518 - mse: 0.3521 - NSE: 0.7318 - r_square: 0.7664 - val_loss: 0.6749 - val_mape: 32.5359 - val_mae: 0.4442 - val_mse: 0.3293 - val_NSE: 0.6762 - val_r_square: 0.7122\n",
      "5 15 25 0\n",
      "Train on 1775500 samples, validate on 577100 samples\n",
      "Epoch 1/15\n",
      "1775500/1775500 [==============================] - 80s 45us/sample - loss: 36.0604 - mape: 75.9647 - mae: 0.8261 - mse: 17.9622 - NSE: -12.3779 - r_square: 0.6208 - val_loss: 0.7417 - val_mape: 50.1184 - val_mae: 0.4912 - val_mse: 0.3620 - val_NSE: 0.6428 - val_r_square: 0.7476\n",
      "Epoch 2/15\n",
      "1775500/1775500 [==============================] - 80s 45us/sample - loss: 0.8907 - mape: 43.7734 - mae: 0.5140 - mse: 0.4390 - NSE: 0.6662 - r_square: 0.7496 - val_loss: 1.0476 - val_mape: 41.6032 - val_mae: 0.5735 - val_mse: 0.5158 - val_NSE: 0.4916 - val_r_square: 0.7422\n",
      "5 25 5 0\n",
      "Train on 1775500 samples, validate on 577100 samples\n",
      "Epoch 1/15\n",
      "1775500/1775500 [==============================] - 75s 42us/sample - loss: 1.8809 - mape: 52.1298 - mae: 0.6721 - mse: 0.9339 - NSE: 0.2917 - r_square: 0.4517 - val_loss: 0.5153 - val_mape: 29.4629 - val_mae: 0.3865 - val_mse: 0.2493 - val_NSE: 0.7546 - val_r_square: 0.7551\n",
      "Epoch 2/15\n",
      "1775500/1775500 [==============================] - 75s 42us/sample - loss: 0.6354 - mape: 33.1595 - mae: 0.4232 - mse: 0.3115 - NSE: 0.7633 - r_square: 0.7700 - val_loss: 0.5525 - val_mape: 28.3760 - val_mae: 0.4025 - val_mse: 0.2678 - val_NSE: 0.7365 - val_r_square: 0.7493\n",
      "5 25 15 0\n",
      "Train on 1775500 samples, validate on 577100 samples\n",
      "Epoch 1/15\n",
      "1775500/1775500 [==============================] - 79s 44us/sample - loss: 111.0036 - mape: 98.1587 - mae: 1.1658 - mse: 54.7071 - NSE: -39.8213 - r_square: 0.3644 - val_loss: 0.9108 - val_mape: 44.1375 - val_mae: 0.5493 - val_mse: 0.4445 - val_NSE: 0.5624 - val_r_square: 0.6967\n",
      "Epoch 2/15\n",
      "1775500/1775500 [==============================] - 80s 45us/sample - loss: 0.8900 - mape: 41.8461 - mae: 0.5065 - mse: 0.4369 - NSE: 0.6680 - r_square: 0.7165 - val_loss: 0.9811 - val_mape: 40.4976 - val_mae: 0.5422 - val_mse: 0.4811 - val_NSE: 0.5266 - val_r_square: 0.7165\n",
      "5 25 25 0\n",
      "Train on 1775500 samples, validate on 577100 samples\n",
      "Epoch 1/15\n",
      "1775500/1775500 [==============================] - 82s 46us/sample - loss: 6.3836 - mape: 63.9436 - mae: 0.8084 - mse: 3.1833 - NSE: -1.3737 - r_square: 0.3024 - val_loss: 0.7322 - val_mape: 30.0499 - val_mae: 0.4361 - val_mse: 0.3576 - val_NSE: 0.6478 - val_r_square: 0.7361pe: 64.7682 - mae: 0.8188 - mse: 3.2681 -\n",
      "Epoch 2/15\n",
      "1775500/1775500 [==============================] - 82s 46us/sample - loss: 0.5035 - mape: 29.8443 - mae: 0.3760 - mse: 0.2455 - NSE: 0.8130 - r_square: 0.8286 - val_loss: 0.4966 - val_mape: 25.9887 - val_mae: 0.3637 - val_mse: 0.2399 - val_NSE: 0.7641 - val_r_square: 0.7801\n",
      "Epoch 3/15\n",
      "1775500/1775500 [==============================] - 82s 46us/sample - loss: 0.4112 - mape: 28.0760 - mae: 0.3425 - mse: 0.1994 - NSE: 0.8480 - r_square: 0.8593 - val_loss: 0.8802 - val_mape: 35.3792 - val_mae: 0.4965 - val_mse: 0.4316 - val_NSE: 0.5758 - val_r_square: 0.7012\n"
     ]
    }
   ],
   "source": [
    "for reg in reg_consts:\n",
    "    for n1 in layer_1_neurons:\n",
    "        for n2 in layer_2_neurons:\n",
    "            for n3 in layer_3_neurons:\n",
    "                print(n1,n2,n3,reg)\n",
    "                K.clear_session()\n",
    "                model = Sequential()\n",
    "                #model.add(Dense(n1, activation = 'relu', input_shape = (1,)))\n",
    "                model.add(Dense(n1, activation = 'relu', kernel_regularizer=l2(reg),input_shape = (5,)))\n",
    "                model.add(Dense(n2, activation = 'relu', kernel_regularizer=l2(reg)))\n",
    "                model.add(Dense(n3, activation = 'relu', kernel_regularizer=l2(reg)))\n",
    "\n",
    "                model.add(Dense(2))\n",
    "                grads_u = K.gradients(model.output[:,0], model.input)[0]\n",
    "                grads_h = K.gradients(model.output[:,1], model.input)[0]\n",
    "\n",
    "\n",
    "                du_dx, du_dt, dh_dx = grads_u[:,0],grads_u[:,1],grads_h[:,0]\n",
    "                calc_grads_inputs = K.stack((du_dx, du_dt, dh_dx, model.input[:,3],model.input[:,4]), axis=1)\n",
    "                # model.summary()\n",
    "                #Compile the model\n",
    "                model.compile(optimizer = 'adam', loss = [custom_loss(calc_grads_inputs)], metrics=['mape', 'mae', 'mse',NSE, r_square])\n",
    "                #fit the model\n",
    "                early_stopping_monitor = EarlyStopping(patience = 1, verbose=False)\n",
    "                history = model.fit(X_train,Y_train, epochs=epochs, batch_size=128, validation_data=(X_val,Y_val), callbacks=[early_stopping_monitor])\n",
    "\n",
    "                # Saving results\n",
    "                val_loss = history.history['val_loss'][-1]\n",
    "                val_mae = history.history['val_mae'][-1]\n",
    "                val_mse = history.history['val_mse'][-1]\n",
    "                val_mape = history.history['val_mape'][-1]\n",
    "                val_nse = history.history['val_NSE'][-1]\n",
    "                val_r_square = history.history['val_r_square'][-1]\n",
    "\n",
    "                results = results.append({'n1':n1,'n2':n2,'n3':n3, 'epochs':len(history.history['val_loss']),\n",
    "                              'reg':reg,'val_r2':val_r_square, 'val_nse':val_nse, 'val_mse':val_mse, 'val_loss':val_loss,\n",
    "                                        'val_mae':val_mae, 'val_mape':val_mape}, ignore_index=True)\n",
    "                if val_loss < best_val_loss:\n",
    "                    best_val_loss = val_loss\n",
    "                    best_model = model\n",
    "                    best_n1 = n1\n",
    "                    best_n2 = n2\n",
    "                    best_n3 = n3\n",
    "                    best_reg = reg\n",
    "                    best_history = history\n",
    "                    model.save(save_model_path)\n",
    "                    results.to_csv(save_results_path)\n",
    "                    \n",
    "results.to_csv(save_results_path)"
   ]
  },
  {
   "cell_type": "markdown",
   "metadata": {},
   "source": [
    "#### Model Summary"
   ]
  },
  {
   "cell_type": "code",
   "execution_count": 24,
   "metadata": {
    "execution": {
     "iopub.execute_input": "2020-09-03T19:12:39.213568Z",
     "iopub.status.busy": "2020-09-03T19:12:39.212520Z",
     "iopub.status.idle": "2020-09-03T19:12:39.216280Z",
     "shell.execute_reply": "2020-09-03T19:12:39.217164Z"
    },
    "papermill": {
     "duration": 0.812572,
     "end_time": "2020-09-03T19:12:39.217375",
     "exception": false,
     "start_time": "2020-09-03T19:12:38.404803",
     "status": "completed"
    },
    "tags": []
   },
   "outputs": [
    {
     "name": "stdout",
     "output_type": "stream",
     "text": [
      "Model: \"sequential\"\n",
      "_________________________________________________________________\n",
      "Layer (type)                 Output Shape              Param #   \n",
      "=================================================================\n",
      "dense (Dense)                (None, 5)                 30        \n",
      "_________________________________________________________________\n",
      "dense_1 (Dense)              (None, 5)                 30        \n",
      "_________________________________________________________________\n",
      "dense_2 (Dense)              (None, 15)                90        \n",
      "_________________________________________________________________\n",
      "dense_3 (Dense)              (None, 2)                 32        \n",
      "=================================================================\n",
      "Total params: 182\n",
      "Trainable params: 182\n",
      "Non-trainable params: 0\n",
      "_________________________________________________________________\n"
     ]
    }
   ],
   "source": [
    "best_model.summary()"
   ]
  }
 ],
 "metadata": {
  "kernelspec": {
   "display_name": "thesis",
   "language": "python",
   "name": "thesis"
  },
  "language_info": {
   "codemirror_mode": {
    "name": "ipython",
    "version": 3
   },
   "file_extension": ".py",
   "mimetype": "text/x-python",
   "name": "python",
   "nbconvert_exporter": "python",
   "pygments_lexer": "ipython3",
   "version": "3.7.6"
  },
  "papermill": {
   "duration": 1095.738968,
   "end_time": "2020-09-03T19:12:53.052539",
   "environment_variables": {},
   "exception": null,
   "input_path": "__notebook__.ipynb",
   "output_path": "__notebook__.ipynb",
   "parameters": {},
   "start_time": "2020-09-03T18:54:37.313571",
   "version": "2.1.0"
  }
 },
 "nbformat": 4,
 "nbformat_minor": 4
}
