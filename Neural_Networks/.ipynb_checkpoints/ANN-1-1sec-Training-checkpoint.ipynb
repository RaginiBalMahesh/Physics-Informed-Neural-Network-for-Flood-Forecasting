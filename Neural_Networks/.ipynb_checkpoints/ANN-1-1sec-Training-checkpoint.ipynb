{
 "cells": [
  {
   "cell_type": "markdown",
   "metadata": {},
   "source": [
    "####  Training File ANN without encoded structure (see input shape = 1)"
   ]
  },
  {
   "cell_type": "code",
   "execution_count": 1,
   "metadata": {
    "execution": {
     "iopub.execute_input": "2020-09-03T18:54:43.700689Z",
     "iopub.status.busy": "2020-09-03T18:54:43.699893Z",
     "iopub.status.idle": "2020-09-03T18:54:51.337199Z",
     "shell.execute_reply": "2020-09-03T18:54:51.336347Z"
    },
    "papermill": {
     "duration": 7.66074,
     "end_time": "2020-09-03T18:54:51.337335",
     "exception": false,
     "start_time": "2020-09-03T18:54:43.676595",
     "status": "completed"
    },
    "tags": []
   },
   "outputs": [],
   "source": [
    "#import libraries\n",
    "import pandas as pd\n",
    "import numpy as np\n",
    "import matplotlib.pyplot as plt\n",
    "from tensorflow.keras.models import Sequential\n",
    "from tensorflow.keras.layers import Dense\n",
    "from tensorflow.keras.callbacks import EarlyStopping, TensorBoard\n",
    "from tensorflow.keras.regularizers import l2\n",
    "from tensorflow.keras import backend as K\n",
    "# from tensorflow import keras\n",
    "\n",
    "import tensorflow as tf\n",
    "\n",
    "# %load_ext tensorboard\n",
    "# import tensorboard\n",
    "import os\n"
   ]
  },
  {
   "cell_type": "code",
   "execution_count": 2,
   "metadata": {
    "execution": {
     "iopub.execute_input": "2020-09-03T18:54:51.362612Z",
     "iopub.status.busy": "2020-09-03T18:54:51.361681Z",
     "iopub.status.idle": "2020-09-03T18:54:51.364781Z",
     "shell.execute_reply": "2020-09-03T18:54:51.364047Z"
    },
    "papermill": {
     "duration": 0.017802,
     "end_time": "2020-09-03T18:54:51.364901",
     "exception": false,
     "start_time": "2020-09-03T18:54:51.347099",
     "status": "completed"
    },
    "tags": []
   },
   "outputs": [],
   "source": [
    "from datetime import datetime\n",
    "from tensorflow.python.framework.ops import disable_eager_execution\n",
    "\n",
    "disable_eager_execution()"
   ]
  },
  {
   "cell_type": "markdown",
   "metadata": {
    "papermill": {
     "duration": 0.008631,
     "end_time": "2020-09-03T18:54:51.384383",
     "exception": false,
     "start_time": "2020-09-03T18:54:51.375752",
     "status": "completed"
    },
    "tags": []
   },
   "source": [
    "#### Data Paths"
   ]
  },
  {
   "cell_type": "code",
   "execution_count": 3,
   "metadata": {
    "execution": {
     "iopub.execute_input": "2020-09-03T18:54:51.408391Z",
     "iopub.status.busy": "2020-09-03T18:54:51.407364Z",
     "iopub.status.idle": "2020-09-03T18:54:51.410796Z",
     "shell.execute_reply": "2020-09-03T18:54:51.410077Z"
    },
    "papermill": {
     "duration": 0.017734,
     "end_time": "2020-09-03T18:54:51.410910",
     "exception": false,
     "start_time": "2020-09-03T18:54:51.393176",
     "status": "completed"
    },
    "tags": []
   },
   "outputs": [],
   "source": [
    "PATH_TO_DATA = '/Users/ge72vep/Desktop/thesis/Data/Model_8/'  ######## Check the data path ######## \n",
    "save_model_path = '/Users/ge72vep/Desktop/thesis/results/model8_q_mse_batch1.h5' ######## Check the data path ######## \n",
    "save_results_path = '/Users/ge72vep/Desktop/thesis/results/results8_q_mse_batch1.csv' ######## Check the data path ######## "
   ]
  },
  {
   "cell_type": "markdown",
   "metadata": {
    "papermill": {
     "duration": 0.00855,
     "end_time": "2020-09-03T18:54:51.428366",
     "exception": false,
     "start_time": "2020-09-03T18:54:51.419816",
     "status": "completed"
    },
    "tags": []
   },
   "source": [
    "\n",
    "#### Loading dataset\n",
    "\n"
   ]
  },
  {
   "cell_type": "code",
   "execution_count": 4,
   "metadata": {
    "execution": {
     "iopub.execute_input": "2020-09-03T18:54:51.456883Z",
     "iopub.status.busy": "2020-09-03T18:54:51.456152Z",
     "iopub.status.idle": "2020-09-03T18:55:20.110167Z",
     "shell.execute_reply": "2020-09-03T18:55:20.109464Z"
    },
    "papermill": {
     "duration": 28.673092,
     "end_time": "2020-09-03T18:55:20.110292",
     "exception": false,
     "start_time": "2020-09-03T18:54:51.437200",
     "status": "completed"
    },
    "tags": []
   },
   "outputs": [],
   "source": [
    "train_df = pd.read_csv(os.path.join(PATH_TO_DATA, 'train.csv'))\n",
    "val_df = pd.read_csv(os.path.join(PATH_TO_DATA, 'val.csv'))"
   ]
  },
  {
   "cell_type": "code",
   "execution_count": 5,
   "metadata": {
    "execution": {
     "iopub.execute_input": "2020-09-03T18:55:20.590412Z",
     "iopub.status.busy": "2020-09-03T18:55:20.589341Z",
     "iopub.status.idle": "2020-09-03T18:56:42.362580Z",
     "shell.execute_reply": "2020-09-03T18:56:42.361758Z"
    },
    "papermill": {
     "duration": 82.242915,
     "end_time": "2020-09-03T18:56:42.362715",
     "exception": false,
     "start_time": "2020-09-03T18:55:20.119800",
     "status": "completed"
    },
    "tags": []
   },
   "outputs": [],
   "source": [
    "X_train = np.array(train_df[['q']].values.tolist())\n",
    "X_val = np.array(val_df[['q']].values.tolist())"
   ]
  },
  {
   "cell_type": "code",
   "execution_count": 6,
   "metadata": {
    "execution": {
     "iopub.execute_input": "2020-09-03T18:57:21.606283Z",
     "iopub.status.busy": "2020-09-03T18:56:59.759759Z",
     "iopub.status.idle": "2020-09-03T18:57:37.604965Z",
     "shell.execute_reply": "2020-09-03T18:57:37.604326Z"
    },
    "papermill": {
     "duration": 55.232753,
     "end_time": "2020-09-03T18:57:37.605097",
     "exception": false,
     "start_time": "2020-09-03T18:56:42.372344",
     "status": "completed"
    },
    "tags": []
   },
   "outputs": [],
   "source": [
    "Y_train = np.array(train_df[['u','h']].values.tolist())\n",
    "Y_val = np.array(val_df[['u','h']].values.tolist())"
   ]
  },
  {
   "cell_type": "markdown",
   "metadata": {
    "papermill": {
     "duration": 0.008895,
     "end_time": "2020-09-03T18:57:37.623182",
     "exception": false,
     "start_time": "2020-09-03T18:57:37.614287",
     "status": "completed"
    },
    "tags": []
   },
   "source": [
    "#### Params"
   ]
  },
  {
   "cell_type": "code",
   "execution_count": 7,
   "metadata": {
    "execution": {
     "iopub.execute_input": "2020-09-03T18:57:37.646495Z",
     "iopub.status.busy": "2020-09-03T18:57:37.645744Z",
     "iopub.status.idle": "2020-09-03T18:57:37.649313Z",
     "shell.execute_reply": "2020-09-03T18:57:37.648580Z"
    },
    "papermill": {
     "duration": 0.017209,
     "end_time": "2020-09-03T18:57:37.649445",
     "exception": false,
     "start_time": "2020-09-03T18:57:37.632236",
     "status": "completed"
    },
    "tags": []
   },
   "outputs": [],
   "source": [
    "epochs= 15 "
   ]
  },
  {
   "cell_type": "markdown",
   "metadata": {
    "papermill": {
     "duration": 0.008778,
     "end_time": "2020-09-03T18:57:37.667128",
     "exception": false,
     "start_time": "2020-09-03T18:57:37.658350",
     "status": "completed"
    },
    "tags": []
   },
   "source": [
    "#### Model  with grid search"
   ]
  },
  {
   "cell_type": "code",
   "execution_count": 8,
   "metadata": {
    "execution": {
     "iopub.execute_input": "2020-09-03T18:57:37.690242Z",
     "iopub.status.busy": "2020-09-03T18:57:37.689541Z",
     "iopub.status.idle": "2020-09-03T18:57:37.692914Z",
     "shell.execute_reply": "2020-09-03T18:57:37.692342Z"
    },
    "papermill": {
     "duration": 0.017064,
     "end_time": "2020-09-03T18:57:37.693031",
     "exception": false,
     "start_time": "2020-09-03T18:57:37.675967",
     "status": "completed"
    },
    "tags": []
   },
   "outputs": [],
   "source": [
    "best_val_loss = np.inf\n",
    "best_model = -1 "
   ]
  },
  {
   "cell_type": "code",
   "execution_count": 9,
   "metadata": {
    "execution": {
     "iopub.execute_input": "2020-09-03T18:57:37.723239Z",
     "iopub.status.busy": "2020-09-03T18:57:37.722249Z",
     "iopub.status.idle": "2020-09-03T18:57:37.725716Z",
     "shell.execute_reply": "2020-09-03T18:57:37.724996Z"
    },
    "papermill": {
     "duration": 0.023284,
     "end_time": "2020-09-03T18:57:37.725823",
     "exception": false,
     "start_time": "2020-09-03T18:57:37.702539",
     "status": "completed"
    },
    "tags": []
   },
   "outputs": [],
   "source": [
    "results = pd.DataFrame(columns=['n1','n2','n3', 'epochs', 'reg',\n",
    "                               'val_r2', 'val_nse', 'val_mse', 'val_mae', 'val_mape'])\n",
    "layer_1_neurons = np.arange(5,6,10) ######## Check the number of neurons ########\n",
    "layer_2_neurons = np.arange(5,26,10) ######## Check the number of neurons ########\n",
    "layer_3_neurons = np.arange(5,26,10) ######## Check the number of neurons ########\n",
    "reg_consts = [0]"
   ]
  },
  {
   "cell_type": "markdown",
   "metadata": {},
   "source": [
    "#### Evaluation Metrics"
   ]
  },
  {
   "cell_type": "code",
   "execution_count": 10,
   "metadata": {
    "execution": {
     "iopub.execute_input": "2020-09-03T18:57:37.752901Z",
     "iopub.status.busy": "2020-09-03T18:57:37.752081Z",
     "iopub.status.idle": "2020-09-03T18:57:37.755228Z",
     "shell.execute_reply": "2020-09-03T18:57:37.754686Z"
    },
    "papermill": {
     "duration": 0.020527,
     "end_time": "2020-09-03T18:57:37.755338",
     "exception": false,
     "start_time": "2020-09-03T18:57:37.734811",
     "status": "completed"
    },
    "tags": []
   },
   "outputs": [],
   "source": [
    "def r_square(y_true, y_pred):\n",
    "    x = y_true\n",
    "    y = y_pred\n",
    "    mx = K.mean(x, axis=0)\n",
    "    my = K.mean(y, axis=0)\n",
    "    xm, ym = x - mx, y - my\n",
    "    r_num = K.square(K.sum(xm * ym))\n",
    "    x_square_sum = K.sum(xm * xm)\n",
    "    y_square_sum = K.sum(ym * ym)\n",
    "    r_den = (x_square_sum * y_square_sum) + K.epsilon()\n",
    "    \n",
    "    r = r_num / r_den\n",
    "    return r"
   ]
  },
  {
   "cell_type": "code",
   "execution_count": 11,
   "metadata": {
    "execution": {
     "iopub.execute_input": "2020-09-03T18:57:37.781819Z",
     "iopub.status.busy": "2020-09-03T18:57:37.780806Z",
     "iopub.status.idle": "2020-09-03T18:57:37.783340Z",
     "shell.execute_reply": "2020-09-03T18:57:37.783923Z"
    },
    "papermill": {
     "duration": 0.019312,
     "end_time": "2020-09-03T18:57:37.784065",
     "exception": false,
     "start_time": "2020-09-03T18:57:37.764753",
     "status": "completed"
    },
    "tags": []
   },
   "outputs": [],
   "source": [
    "def NSE(y_true, y_pred):\n",
    "\n",
    "    y_pred = K.flatten(y_pred)\n",
    "    y_true = K.flatten(y_true)\n",
    "\n",
    "    \n",
    "    SS_res =  K.sum(K.square(y_true - y_pred)) \n",
    "    SS_tot = K.sum(K.square(y_true - K.mean(y_true))) \n",
    "    \n",
    "    return ( 1 - SS_res/(SS_tot + K.epsilon()) )"
   ]
  },
  {
   "cell_type": "markdown",
   "metadata": {},
   "source": [
    "#### Defining Model"
   ]
  },
  {
   "cell_type": "code",
   "execution_count": 13,
   "metadata": {
    "execution": {
     "iopub.execute_input": "2020-09-03T18:57:37.859913Z",
     "iopub.status.busy": "2020-09-03T18:57:37.858948Z",
     "iopub.status.idle": "2020-09-03T19:08:09.137913Z",
     "shell.execute_reply": "2020-09-03T19:08:09.137246Z"
    },
    "papermill": {
     "duration": 631.312345,
     "end_time": "2020-09-03T19:08:09.138043",
     "exception": false,
     "start_time": "2020-09-03T18:57:37.825698",
     "status": "completed"
    },
    "scrolled": true,
    "tags": []
   },
   "outputs": [
    {
     "name": "stdout",
     "output_type": "stream",
     "text": [
      "5 5 5 0\n",
      "WARNING:tensorflow:From D:\\Users\\ge72vep\\.conda\\envs\\thesis\\lib\\site-packages\\tensorflow_core\\python\\ops\\resource_variable_ops.py:1635: calling BaseResourceVariable.__init__ (from tensorflow.python.ops.resource_variable_ops) with constraint is deprecated and will be removed in a future version.\n",
      "Instructions for updating:\n",
      "If using Keras pass *_constraint arguments to layers.\n",
      "Train on 8877500 samples, validate on 2885500 samples\n",
      "Epoch 1/15\n",
      "8877500/8877500 [==============================] - 332s 37us/sample - loss: 0.6124 - mape: 49.8868 - mae: 0.5850 - mse: 0.6124 - NSE: 0.5351 - r_square: 0.5444 - val_loss: 0.5102 - val_mape: 50.3951 - val_mae: 0.5671 - val_mse: 0.5102 - val_NSE: 0.4979 - val_r_square: 0.5079square: 0.544 - ETA: 39s - loss: 0. - ETA: 34s - loss: 0.6135 - mape: 49.8927 - mae: 0.5853 - mse: 0.6135 - ETA: 33s - loss: 0.6134 - mape: 49.893 - ETA: 26s - loss: 0.6133 - mape: 49.8949 - mae: 0.5853 - mse: 0.6133 - NS - ETA: 25s - loss: 0.6133 - mape: 49.8938 - mae: 0.5853 - mse: 0.6133 - NSE: 0.5345 - - ETA: 24s - loss: 0.6133 - mape: 49.8948 - mae: 0.5853 - mse: 0.6133 - NSE: 0.53 - ETA: 24s - loss: 0.6133 - mape: 49.8953 - mae: 0.5853 - mse: 0.6133 - NSE: 0.5345 - r_sq - ETA: 23s - loss: 0.6132 - mape: 49.8950 - mae: 0.5853 - mse: 0.6132 - NSE: 0 - ETA: 22s - loss: 0.6132 - mape: 49.8944 - mae: 0.5853 - mse: 0.6132 - NSE: 0.5345 - r_s - ETA: 22s - loss: 0.6132 - mape: 49.8938 - mae: 0.5853 - mse: 0.6132 - NSE: 0.5346 - r_square: 0.544 - ETA: 21s - loss: 0.6132 - mape: 49.8933 - mae: 0.5853 - mse: 0.6132 - NSE: 0.5346 - r_square: 0.544 - ETA: 21s - loss: 0.6132 - mape: 49.8935 - mae: 0.5853 - mse: 0.6132 - NSE: 0.5346 - r_square: 0.5 - ETA: 21s - loss: 0.6132 - mape: 49.8927 - mae: 0.5853 - mse:  - ETA: 19s - loss: 0.6131 - mape: 49.8906 - mae: 0.5852 - mse: 0.6131 - NSE: 0.5346 - r_squar - ETA: 19s - loss: 0.6131 - mape: 49.8901 - mae: 0.5852 - mse: 0.6131 - NSE: 0.5346 - r_square: 0.544 - ETA: 19s - loss: 0.6131 - mape: 49.8902 - mae: 0.5852 - mse: 0.6131 - NSE: 0.5346 - r_squ - ETA: 18s - loss: 0.6130 - mape: 49.8880 - mae: 0.5852 - mse: 0. - ETA: 16s - loss: 0.6129 - mape: 49.8846 - mae: 0.5851 - mse: 0.6129 - NSE: 0.5348 - r_sq - ETA: 16s - loss: 0.6129 - mape: 49.8836 - mae: 0.5851 - mse: 0.6129 - NSE: 0.5348 - r_square - ETA: 15s - loss: 0.6129 - mape: 49.8826 - mae: 0.5851 - mse: 0.6129 - NSE - ETA: 14s - loss: 0.6128 - mape: 49.8814 - mae: 0.5851 - mse: 0.6128 - NSE: 0.534 - ETA: 13s - loss: 0.6128 - mape: 49.8815 - mae: 0.5851 - mse: 0.6128 - NSE: 0.5349  - ETA: 12s - loss: 0.6128 - mape: 49.8807 - mae: 0.5851 - mse: 0.6128 - NSE: 0.5349 - r_squ - ETA: 11s - loss: 0.6127 - mape: 49.8788 - mae: 0.5851 - mse: 0.6127 - NSE: 0.5349 - r_square: 0.5 - ETA: 11s - loss: 0.6127 - mape: 49.8796 - mae: 0.5851 - mse: 0.6127 - NSE: 0.5349 - r_square: - ETA: 11s - loss: 0.6127 - mape: 49.8801 - mae: 0.5851 - mse: 0.6127 - NSE: 0.53 - ETA: 10s - loss: 0.6127 - mape: 49.8799 - mae: 0.5851 - mse: 0.6127 - NSE: 0.5349 - r_ - ETA: 10s - loss: 0.6127 - mape: 49.8818 - mae: 0.5851 - mse: 0.6127 - NSE: 0.5350 - r_square: 0.544 - ETA: 9s - loss: 0.6127 - mape: 49.8823 - mae: 0.5851 - m - ETA: 8s - loss: 0.6127 - mape: 49.8823 - mae: 0.5851 - mse: 0.6127 - NSE: 0.5 - ETA: 1s - loss: 0.6125 - mape: 49.8850 - mae: 0.5\n",
      "Epoch 2/15\n",
      "8877500/8877500 [==============================] - 387s 44us/sample - loss: 0.6043 - mape: 49.6870 - mae: 0.5822 - mse: 0.6043 - NSE: 0.5412 - r_square: 0.5461 - val_loss: 0.5136 - val_mape: 50.4408 - val_mae: 0.5703 - val_mse: 0.5136 - val_NSE: 0.4946 - val_r_square: 0.5075\n",
      "5 5 15 0\n",
      "Train on 8877500 samples, validate on 2885500 samples\n",
      "Epoch 1/15\n",
      "8877500/8877500 [==============================] - 422s 48us/sample - loss: 0.6085 - mape: 49.5960 - mae: 0.5837 - mse: 0.6085 - NSE: 0.5381 - r_square: 0.5459 - val_loss: 0.5133 - val_mape: 50.6481 - val_mae: 0.5683 - val_mse: 0.5133 - val_NSE: 0.4948 - val_r_square: 0.5055\n",
      "Epoch 2/15\n",
      "8877500/8877500 [==============================] - 421s 47us/sample - loss: 0.6022 - mape: 49.4141 - mae: 0.5809 - mse: 0.6022 - NSE: 0.5428 - r_square: 0.5476 - val_loss: 0.5170 - val_mape: 50.3512 - val_mae: 0.5708 - val_mse: 0.5170 - val_NSE: 0.4912 - val_r_square: 0.5055\n",
      "5 5 25 0\n",
      "Train on 8877500 samples, validate on 2885500 samples\n",
      "Epoch 1/15\n",
      "8877500/8877500 [==============================] - 423s 48us/sample - loss: 0.6041 - mape: 49.4780 - mae: 0.5820 - mse: 0.6041 - NSE: 0.5414 - r_square: 0.5481 - val_loss: 0.5247 - val_mape: 50.7490 - val_mae: 0.5772 - val_mse: 0.5248 - val_NSE: 0.4835 - val_r_square: 0.5018mse: 0.6050 - NSE: 0.5407 - r_ - ETA: 57s - loss: 0.6050 - mape: 49.4919 - mae: 0.5824 - mse: 0.6050 - NSE: 0.5407 - r_square - ETA: 56s - loss: 0.6049 - mape: 49.4907 - mae: 0.5824 - mse: 0.6049 - NSE: 0.5408 - ETA: 56s - loss: 0.60 - ETA: 27s - los - ETA: 1s - loss: 0.6041 - mape: 49.4769 - mae: 0.5820 - mse: 0.6041 - NS - ETA: 0s - loss: 0.6041 - mape: 49.4776 - mae: 0.5820 - mse: 0.6041 - NSE: 0.5414 - \n",
      "Epoch 2/15\n",
      "2887680/8877500 [========>.....................] - ETA: 3:09 - loss: 0.5961 - mape: 49.3250 - mae: 0.5782 - mse: 0.5961 - NSE: 0.5472 - r_square: 0.5523 ETA: 5: - ETA: 5:02 - loss: 0.5989 - mape: 49.4696 - mae: 0.5799 -  - ETA: 4:56 - loss: 0.5991 - mape: 49.4908 - mae: 0.5800 - mse: 0.5991 - NSE: 0.5449 - r_square: 0.55 - ETA: 4:56 - loss: 0.5992 - mape: 49.4898 - mae: 0.5800 - mse: 0.5992 - NSE: 0.5448 - r_square:  - ETA: 4:56 - loss: 0.5991 - mape: 49.4875 - mae: 0.5800 - mse: 0.5991 - NSE: 0.5450 - r_square: 0.55 - ETA: 4:55 - loss: 0.5990 - mape: 49.4834 - mae: 0.5799 - mse: 0.5990 - NSE: 0.5450 - r_square: 0. - ETA: 4:55 - loss: 0.5989 - mape: 49.4754 - mae: 0.5798 - mse: 0.5989 - NSE: 0.5451 - r_square: 0. - ETA: 4:54 - loss: 0.5988 - mape: 49.4701 - mae: 0.5798 - mse: 0.5988 - NSE: 0.5452 - r_square: 0. - ETA: 4:53 - loss: 0.5988 - mape: 49.4715 - mae: 0.5798 - mse: 0.5988 - NSE: 0.5453 - r_square: 0. - ETA: 4:51 - loss: 0.5986 - mape: 49.4578 - mae: 0.5797 - ms - ETA: 4:45 - loss: 0.5982 - mape: 49.4579 - mae: 0.5795 - mse: 0.5982 - NSE: 0.5457 - r_square:  - ETA: 4:45 - loss: 0.5980 - mape: 49 - ETA: 4:33 - loss: 0.5977 - mape: 49.4278 - mae: 0.5792 - mse: 0.5977 - NSE: 0.5460 - r_square - ETA: 4:31 - loss: 0.5977 - mape - ETA: 4:26 - loss: 0.5975 - mape: 49.4221 - mae: 0.5791 - mse: 0.5975 - NSE: 0.5459 - r_square: 0.55 - ETA: 4:25 - loss: 0.5975 - mape: 49.4245 - mae: 0.5791 - mse: 0.5975 - NSE: 0.5459 - r_square: 0. - ETA: 4:25 - loss: 0.5975 - mape: 49.4262 - mae: 0.5791 - mse: 0.5975 - NSE: - ETA: 4:24 - loss: 0.5975 - mape: 49.4367 - mae: 0.5791 - mse: 0.5975 - NSE: 0.5458 - r_square: 0.55 - ETA: 4:24 - loss: 0.5976 - mape: 49.4375 - mae: 0.5791 - mse: 0.5976 - NSE: 0.5458 - r_square:  - ETA: 4:24 - loss: 0.5975 - mape: 49.4367 - mae: 0.5791 - mse: 0.5975 - NSE: 0.5458 - r_square: 0. - ETA: 4:23 - loss: 0.5976 - mape: 49.4318 - mae: 0.5791 - mse: 0.5976 - NSE: 0.5458 - r_square: 0. - ETA: 4:23 - loss: 0.5976 - mape: 49.4323 - mae: 0.5791 - mse: 0.5976 - NSE: 0.5457 - r_square - ETA: 4:22 - loss: 0.5977 - mape: 49.4379 - mae: 0.5791 - mse: 0.5977 - NSE: 0.5457 - r_squa - ETA: 4:18 - loss: 0.5976 - mape: 49.4256 - mae: 0.5790 - mse: 0.5976 - NSE: 0.5457 - r_square: 0. - ETA: 4:17 - loss: 0.5975 - mape: 49.4183 - mae: 0.5790 - mse: 0.5975 - NSE: 0.5457 - r_square: 0.55 - ETA: 4:17 - loss: 0.5975 - mape: 49.4195 - mae: 0.5789  - ETA: 4:16 - loss: 0.5973 - mape: 49.4149 - mae: - ETA: 4:09 - loss: 0.5971 - mape: 49.4071 - mae: 0.5788 - mse: 0.5971 - NSE: 0.545 - ETA: 4:09 - loss: 0.5971 - mape: 49.4108 - mae: 0.5788 - mse: 0.5971 - NSE: 0.5458 - r_square: 0.55 - ETA: 4:09 - loss: 0.5971 - mape: 49.4098 - mae: 0.5788 - mse: 0.5971 - NSE: 0.5458 - r_square: 0. - ETA: 4:09 - loss: 0.5971 - mape: 49.4111 - mae: 0.5788 - mse: 0.5971 - NSE: 0.5457 - r_square: 0.55 - ETA: 4:08 - loss: 0.5971 - mape: 49.4098 - mae: 0.5788 - mse: 0.5971 - NSE: 0.5458  - ETA: 4:05 - loss: 0.5971 - mape: 49.4159 - mae: 0.5788 - mse: 0.5971 - NSE: 0.5458 - r_sq - ETA: 4:04 - loss: 0.5974 - mape: 49.4244 - mae: 0.5789 - mse: 0.5974 - NSE: - ETA: 4:04 - loss: 0.5974 - mape: 49.4267 - mae: 0.5789 - mse: 0.5974 - NSE: - ETA: 4:00 - loss: 0.5973 - mape: 49.4200 - mae: 0.5788 - mse: 0.5973 - NSE: 0.5458 - r_square - ETA: 3:59 - loss: 0.5973 - mape: 49.4189 - mae: 0.5788 - mse: 0.5973 - NSE: 0.5458 - r_square: 0.55 - ETA: 3:59 - loss: 0.5973 - mape: 49.4168 - mae: 0.5788 - mse: 0.5973 - NSE: 0.5458 - r_square: 0. - ETA: 3:58 - loss: 0.5973 - mape: 49.4160 - mae: 0.5788 - mse: 0.5973 - NSE: 0.5458  - ETA: 3:59 - loss: 0.5972 - mape: 49.4133 - mae: 0.5788 - mse: 0.5972 - NSE: 0.5458 - r_square: 0.55 - ETA: 3:59 - loss: 0.5972 - mape: 49.4162 - mae: 0.5788 - mse: 0.5972 - NSE: 0.5458 - r_square: 0.55 - ETA: 3:59 - loss: 0.5972 - mape: 49.4162 - mae: 0.5788 - mse: 0.5972 - NSE: 0.5458 - r_square - ETA: 3:59 - loss: 0.5972 - mape: 49.4170 - mae: 0.5788 - mse: 0.5972 - NSE: 0.5458 - r_square: 0. - ETA: 3:59 - loss: 0.5972 - mape: 49.4165 - mae: 0.5788 - mse: 0.5972 - NSE: 0.5459 - r_square: 0.55 - ETA: 3:59 - loss: 0.5972 - mape: 49.4139 - mae: 0.5788 - mse: 0.5972 - NSE: 0.5459 - r_square: 0. - ETA: 3:58 - loss: 0.5972 - mape: 49.4147 - mae: 0.5788 - mse: 0.5972 - NSE: 0.5459 - r_square: 0. - ETA: 3:58 - loss: 0.5971 - mape: 49.4108 - mae: 0.5787 - mse: 0.5971 - NSE: 0.5459 - r_square: 0. - ETA: 3:58 - loss: 0.5971 - mape: 49.4056 - mae: 0.5787 - mse: 0.5971 -  - ETA: 3:54 - loss: 0.5972 - mape: 49.4067 - mae: 0.5787 - mse: 0.5972 - NSE: 0.5460 - r_square: 0.55 - ETA: 3:54 - loss: 0.5971 - mape: 49.4062 - mae: 0.5787 - mse: 0.5971 - NSE: 0.5461 - r_square: 0. - ETA: 3:54 - loss: 0.5971 - mape: 49.3991 - mae: 0.5787 - mse: 0.5971 - NSE: 0.5461 - r_squa - ETA: 3:54 - loss: 0.5971 - mape: 49.4002 - mae: 0.5787 - mse: 0.5971 - NSE: 0.5461 - r_square - - ETA: 3:47 - loss: 0.5969 - mape: 49.3815 - mae: 0.5786 - mse: 0.5969 - NSE: 0.5464 - r_square - ETA: 3:46 - loss: 0.5969 - mape: 49.3835 -  - ETA: 3:44 - loss: 0.5970 - mape: 49.3754 - mae: 0.5787 - mse: 0.5970 - NSE: 0.5465 - r_squa - ETA:  - ETA: 3:39 - loss: 0.5968 - mape: 49.3735 - mae: 0.5786 - mse: 0.5968 - NSE: 0.5466 - r_square:  - ETA: 3:39 - loss: 0.5969 - mape: 49.3744 - mae: 0.5786 - mse: 0.5969 - NSE: 0.5465 - r_squa - ETA: 3:39 - loss: 0.5969 - mape: 49.3731 - mae: 0.5786 - mse: 0.5969 - NSE: 0.5466 - r_square: 0.55 - ETA: 3:39 - loss: 0.5968 - mape: 49.3731 - mae: 0.5786 - mse: 0.5968 - NSE: 0.5 - ETA: 3:37 - loss: 0.5967 - mape: 49.3657 - mae: 0.5785 - mse: 0.5967 - NSE: 0 - ETA: 3:35 - loss: 0.5966 - mape: 49.3644 - mae: 0.5785 - mse: 0.5966 - NSE: 0.5467 - r_square: 0. - ETA: 3:22 - loss: 0.5962 - mape: 49.3298 - mae: 0.5782 -  - ETA: 3:23 - loss: 0.5963 - mape: 49.3421 - mae: 0.5783 - mse: 0.5963 - NSE: 0.5469 - r_square: 0.55 - ETA: 3:23 - loss: 0.5963 - mape: 49.3434 - mae: 0.5783 - mse: 0.5963 - NSE: 0.5469 - r_square - ETA: 3:23 - loss: 0.5963 - mape: 49.3429 - ma - ETA: 3:21 - loss: 0.5963 - mape: 49.3395 - mae: 0.5783 - mse: 0.596 - ETA: 3:20 - loss: 0.5962 - mape: 49.3320 - mae: 0.5782 - mse: 0.596 - ETA: 3:19 - loss: 0.5962 - mape - ETA: 3:18 - loss: 0.5962 - mape: 49.3297 - mae: - ETA: 3:17 - los - ETA: 3:15 - loss: 0.5961 - mape: 49.3270 - mae: 0.5782 - mse: 0.5961 - NSE: 0.547 - ETA: 3:15 - loss: 0.5961 - mape: 49.3280 - mae: 0.5782 - mse: 0.5961 - NSE: 0.5471 - r_square - ETA: 3:15 - loss: 0.5961 - mape: 49.3283 - ma - ETA: 3:14 - loss: 0.5961 - mape: 49.3357 - mae: 0.5782 - mse: 0.5961 - NSE: 0.5470 - r_square: 0. - ETA: 3:14 - loss: 0.5961 - mape: 49.3353 - mae: 0.5782 - mse: 0.5961 - NSE: 0.5470 - r_square - ETA: 3:14 - loss: 0.5961 - mape: 49.3380 - mae: 0.5782 - mse: 0.5961 - NSE: 0.5470  - ETA: 3:14 - loss: 0.5961 - mape: 49.3349 - mae: 0.5782 -  - ETA: 3:12 - loss: 0.5961 - mape: 49.3335 - mae: 0.5782 - mse: 0.5961 - NSE: 0 - ETA: 3:13 - loss: 0.5961 - mape: 49.3350 - mae: 0.5782 - mse: 0 - ETA: 3:12 - loss: 0.5961 - mape: 49.3302 - mae: 0.5782 - mse: 0.5961 - NSE: 0.5472 -  - ETA: 3:11 - loss: 0.5960 - mape: 49.3288 - mae: 0.5782 - mse: 0.5960 - NSE: 0.5472 - r_square: 0.55 - ETA: 3:11 - loss: 0.5961 - mape: 49.3292 - mae: 0.5782 - mse: 0.5961 - NSE: 0.5472 - r_square - ETA: 3:12 - loss: 0.5960 - mape: 49.3287 - mae: 0.5782 - mse: 0.5960  - ETA: 3:11 - loss: 0.5961 - mape: 49.3282 - mae: 0.5782 - mse: 0.5961 - NSE: 0.5472 - r_sq - ETA: 3:10 - loss: 0.5961 - mape: 49.3312 - mae: 0.5782 - mse: 0.5961 - NSE: 0.5472 - r_square: 0. - ETA: 3:10 - loss: 0.5961 - mape: 49.3319 - mae: 0.5782 - mse: 0.5961 - NSE: 0.5472 -  - ETA: 3:10 - loss: 0.5961 - mape: 49.3295 - mae: 0.5782 - mse: 0.5961 - NSE: 0.5472 - r_square: 0. - ETA: 3:10 - loss: 0.5961 - mape: 49.3292 - mae: 0.5782 - mse: 0.5961 - NSE: 0.5472 - r_square - ETA: 3:10 - loss: 0.5961 - mape: 49.3274 - mae: 0.5782 - mse: 0.5961 - NSE: 0.5472 - r_square: 0.55 - ETA: 3:10 - loss: 0.5961 - mape: 49.3277 - mae: 0.5782 - mse: 0.5961 - NSE: 0.5472 - r_square: 0.55 - ETA: 3:10 - loss: 0.5961 - mape: 49 - ETA: 3:09 - loss: 0.5961 - mape: 49.3219 - mae: 0.5782 - mse: 0.5961 - NSE: 0.5473 - r_square:  - ETA: 3:09 - loss: 0.5961 - mape: 49.3227 - mae: 0.5782 - mse: 0.5961 - NSE: 0.5473 - r_sq - ETA: 3:09 - loss: 0.5961 - mape: 49.3257 - mae: 0.5782 - mse: 0.5961 - NSE: 0.5472 - r_square: 0.55238877500/8877500 [==============================] - 418s 47us/sample - loss: 0.5946 - mape: 49.2634 - mae: 0.5775 - mse: 0.5946 - NSE: 0.5485 - r_square: 0.5535 - val_loss: 0.5168 - val_mape: 50.2937 - val_mae: 0.5703 - val_mse: 0.5168 - val_NSE: 0.4914 - val_r_square: 0.5010265 - ETA: 29s - loss: 0.5947 - mape: 49.2674 - mae: 0.5775 - mse: 0.5947 - NSE: 0.5484 - r_square: 0.5 - ETA: 29s - loss: 0.5947 - mape: 49.2671 - mae: 0.5775 - mse: 0.5947 - NSE: 0.5484 - r_square: 0.553 - ETA: 29s - loss: 0.5947 - mape: 49.2671 - mae: 0.5775 - mse: 0.5947 - NSE: 0.5484 - r_square: 0.55 - ETA: 29s - loss: 0.5947 -  - ETA: 20s - ETA: 11s - loss: 0.5946 - mape: 4 - ETA: 4s - loss: 0.5946 - mape - ETA: 2s - loss: 0.5946 - mape: 49.2624 - mae: 0.5775 - mse: - ETA: 0s - loss: 0.5946 - mape: 49.2636 - mae: 0.5775 - mse: 0.5946 - NSE: 0.5485 - r_square:  - ETA: 0s - loss: 0.5946 - mape: 49.2638 - mae: 0.5775 - mse: 0.5946 - NSE: 0.5\n",
      "Epoch 3/15\n",
      "8877500/8877500 [==============================] - 424s 48us/sample - loss: 0.5933 - mape: 49.2147 - mae: 0.5766 - mse: 0.5932 - NSE: 0.5495 - r_square: 0.5545 - val_loss: 0.5239 - val_mape: 51.8731 - val_mae: 0.5778 - val_mse: 0.5239 - val_NSE: 0.4842 - val_r_square: 0.5025 mse: 0.5969 - NSE: 0.5480 -  - ETA: 8:09 - loss: 0.5959 - mape: 49.2663 - mae: 0.5786 - mse: 0.5959 - NSE: 0.5494 - r_square - ETA: 7:49 - loss: 0.5940 - mape: 49.2019 - mae: 0.5776 - mse: 0.5940 - NSE: 0.5506 - r_square - ETA: 7:34 - loss: 0.5940 - mape: 49.1949 - mae: 0.5775 - mse: 0.5 - ETA: 7:03 - loss: 0.5937 - mape: 49.1829 - mae: 0.5777 - mse: 0.5937 - NSE: 0.5503 - r_square: 0. - ETA: 7:03 - loss: 0.5942 - mape: 49.2139 - mae: 0.5778 - mse: 0.594 - ETA: 6:50 - loss: 0.5947 - mape: 49.1953 - mae: 0 - ETA: 6:26 - loss: 0.5931 - mape: 49.1234 - mae: 0.5774 - mse: 0.5931 -  - ETA: 6:18 - loss: 0.5941 - mape: 49.1757 - mae: 0.5778 - mse: 0.5941 - NSE: 0.5503 - r_square: 0.55 - ETA: 6:18 - loss: 0.5941 - mape: 49.1792  - ETA: 31s - loss: 0.5933 - mape: 49.2171 - mae: - ETA: 15s - loss: 0.5932 - mape: 49.2 - ETA\n",
      "5 15 5 0\n",
      "Train on 8877500 samples, validate on 2885500 samples\n",
      "Epoch 1/15\n",
      "8877500/8877500 [==============================] - 411s 46us/sample - loss: 0.6181 - mape: 49.5933 - mae: 0.5856 - mse: 0.6181 - NSE: 0.5309 - r_square: 0.5438 - val_loss: 0.5141 - val_mape: 50.7127 - val_mae: 0.5666 - val_mse: 0.5141 - val_NSE: 0.4941 - val_r_square: 0.5058\n",
      "Epoch 2/15\n",
      "8877500/8877500 [==============================] - 414s 47us/sample - loss: 0.6026 - mape: 49.4568 - mae: 0.5812 - mse: 0.6026 - NSE: 0.5426 - r_square: 0.5473 - val_loss: 0.5104 - val_mape: 50.2341 - val_mae: 0.5637 - val_mse: 0.5104 - val_NSE: 0.4976 - val_r_square: 0.5048\n",
      "Epoch 3/15\n",
      "8877500/8877500 [==============================] - 413s 47us/sample - loss: 0.6023 - mape: 49.4456 - mae: 0.5811 - mse: 0.6023 - NSE: 0.5427 - r_square: 0.5475 - val_loss: 0.5232 - val_mape: 51.4469 - val_mae: 0.5768 - val_mse: 0.5232 - val_NSE: 0.4849 - val_r_square: 0.504923 - mape: 49.4133 - mae: 0.5809 - mse: 0.602 - ETA: 5:02 - loss: 0.6024 - mape: 49.4185 - mae: 0.581 - ETA: 4:58 - loss: 0.6024  - ETA: 4:51 - loss: 0.6025 - mape: 49.4237 - mae: 0.5810 - mse: 0.6025 - NSE: 0.5430 - r_ - E - ETA: 4:21 - l - ETA: 4:16 - loss: 0.6024 - mape: 49.4305 - mae: 0.5810 - mse: 0.6024 - NSE: 0.5432 - r_square - ETA: 4:16 - loss: 0.6024 - mape:  - ETA: 4:13 - loss: 0.6025 - mape: 49.4273 - ma - ETA: 4:08 - loss: 0.6024 - mape:  - ETA: 4:04 - loss: 0.6024 - mape: 49.4273 - mae: 0.5811 - mse: 0.6024 -  - ETA: 4:03 - loss: 0.6024 - mape:  - ETA: 3:59 - loss: 0.6022 - mape: 49.4152 - mae: 0.5810 - mse: 0.6022 - NSE: 0.5433 - r_sq - ETA: 4:00 - loss: 0.6022 - mape: 49.4168 - ma - ETA:  - ETA: 5s - loss: 0.6024 - mape: 49.4462 - mae: 0 - ETA: 3s - loss: 0.6023 - mape: 49.4452 - mae: 0.5811 - mse: 0.6023 - NSE: 0.5427 -  - ETA: 3s - loss: 0.6023 - mape: 49.4455 - mae: 0.5811  - ETA: 2s\n",
      "5 15 15 0\n",
      "Train on 8877500 samples, validate on 2885500 samples\n",
      "Epoch 1/15\n",
      "8877500/8877500 [==============================] - 408s 46us/sample - loss: 0.6045 - mape: 49.3516 - mae: 0.5812 - mse: 0.6045 - NSE: 0.5411 - r_square: 0.5475 - val_loss: 0.5201 - val_mape: 51.6914 - val_mae: 0.5708 - val_mse: 0.5201 - val_NSE: 0.4881 - val_r_square: 0.5006\n",
      "Epoch 2/15\n",
      "8877500/8877500 [==============================] - 412s 46us/sample - loss: 0.5940 - mape: 49.2354 - mae: 0.5772 - mse: 0.5940 - NSE: 0.5490 - r_square: 0.5538 - val_loss: 0.5271 - val_mape: 50.5179 - val_mae: 0.5753 - val_mse: 0.5271 - val_NSE: 0.4811 - val_r_square: 0.4985\n",
      "5 15 25 0\n",
      "Train on 8877500 samples, validate on 2885500 samples\n",
      "Epoch 1/15\n",
      "8877500/8877500 [==============================] - 421s 47us/sample - loss: 0.6001 - mape: 49.2826 - mae: 0.5798 - mse: 0.6001 - NSE: 0.5444 - r_square: 0.5508 - val_loss: 0.5268 - val_mape: 52.1322 - val_mae: 0.5805 - val_mse: 0.5268 - val_NSE: 0.4814 - val_r_square: 0.4985 - mape: 49.2833 - mae: 0.5798 - mse: 0.6001 - NSE:\n",
      "Epoch 2/15\n",
      "8877500/8877500 [==============================] - 426s 48us/sample - loss: 0.5915 - mape: 49.1127 - mae: 0.5756 - mse: 0.5915 - NSE: 0.5509 - r_square: 0.5557 - val_loss: 0.5207 - val_mape: 51.5423 - val_mae: 0.5747 - val_mse: 0.5207 - val_NSE: 0.4877 - val_r_square: 0.498615 - \n",
      "Epoch 3/15\n",
      "8877500/8877500 [==============================] - 425s 48us/sample - loss: 0.5899 - mape: 49.0391 - mae: 0.5741 - mse: 0.5899 - NSE: 0.5521 - r_square: 0.5569 - val_loss: 0.5356 - val_mape: 53.1133 - val_mae: 0.5865 - val_mse: 0.5356 - val_NSE: 0.4727 - val_r_square: 0.4956s:\n",
      "5 25 5 0\n",
      "Train on 8877500 samples, validate on 2885500 samples\n",
      "Epoch 1/15\n",
      "8877500/8877500 [==============================] - 411s 46us/sample - loss: 0.6033 - mape: 49.2619 - mae: 0.5809 - mse: 0.6033 - NSE: 0.5420 - r_square: 0.5475 - val_loss: 0.5146 - val_mape: 51.6053 - val_mae: 0.5699 - val_mse: 0.5146 - val_NSE: 0.4935 - val_r_square: 0.5050ae: 0.5811 - mse: 0.6040 - NSE: 0.5418 -  - ETA: 1:20 - loss: 0.6040 - mape: 49.2603 - mae: 0.5811 - ms - ETA - ETA: 1:07 - loss: 0.6040 - mape: 49.2647 - mae: 0.5812 - mse: 0.6040 -  - ETA: 1:06 - loss: 0.6040 - mape: 49.2637 - mae: 0.5812 - mse: 0 - ETA: 1:05 - loss: 0.6040 - mape: 49.2643 - mae: 0.5812 - mse: 0.6040 - NS - ETA: 1:00 - loss: 0.6039 - mape: 49.\n",
      "Epoch 2/15\n",
      "8877500/8877500 [==============================] - 415s 47us/sample - loss: 0.5954 - mape: 49.1505 - mae: 0.5772 - mse: 0.5954 - NSE: 0.5480 - r_square: 0.5528 - val_loss: 0.5167 - val_mape: 51.0606 - val_mae: 0.5709 - val_mse: 0.5167 - val_NSE: 0.4915 - val_r_square: 0.50290.5962 - NSE: 0.5474 - r_square: 0. - ETA: 1:04 - loss: 0.5962 - mape: 49.1669 - mae: 0.5776 - mse: 0.5962 - NSE: 0.5474 - r_square:  - ETA: 1:03 - loss: 0.5962 - mape: 49.1659 - mae: 0.5776 - mse: 0.5962 - NSE: 0.5474 -  - ETA: 1:03 - loss: 0.5962 - mape: 49.1656 - mae: 0.5776 - mse: 0.5962 - NSE: 0 - ETA: 57s - loss: 0.5961 - mape: 49.1646 - mae: 0.5775 - mse: 0.5961 - NSE: 0.5475 - - ETA: 56s - loss: 0.5961 - mape: 49.1638 - mae: 0.5775 - mse: 0.5961 - NSE: 0.5475 - r_squ - ETA: 55s - loss: 0.59 - ETA: 49s - loss: 0.5959 - mape: 49.1574 - mae: 0.5775 - mse: 0.5959 - NSE: 0.5476 - r_sq - ETA: 49s - loss: 0.5959 - mape: 49.1573 - mae: 0.5774 - mse: 0.5959 - N - ETA: 46s - loss: 0.5960 - mape: 49.1584 - mae: 0.5775 - mse: 0.5960 - NSE: 0.5476 - r_square: 0.55 - ETA: 46s - loss: 0.595 - ETA: 41s - loss: 0.5959 - mape: 49.1582 - mae: 0.5774 - mse: 0.59 - ETA: 38s - loss: 0.5959 - mape: 49.1582 - mae: 0.5774 - mse: 0. - ETA: 21s - loss: 0.5956 - mape: 49.1541 - mae: 0.5773 - mse: 0.5956 - NSE: 0.5478 - r_square: 0. - ETA: 21s - loss: 0.5956 - mape: 49.1534 - mae: 0.5773 - mse: 0.5956 - NSE: 0.5478 - - ETA: 20s - loss: 0.5956 - mape: 49.1525 - mae: 0.5773 - mse: 0.5956 - NSE: 0.5479 - r_square: 0.552 - ETA: 20s - loss: 0.5956 - mape: 49.1525 - mae: 0.5773 - mse: 0.5956 - NSE:  - ETA: 18s - loss: 0.5956 - mape: 49.1523 - mae: 0.5773 - mse: 0.5956 - NSE: 0.5479 - - ETA: 17s - loss: 0.5955 - ma - ETA: 0s - loss: 0.5954 - mape: 49.1509 - mae: 0.5772 - mse: 0.5954 - NSE: 0.5480 - \n",
      "5 25 15 0\n",
      "Train on 8877500 samples, validate on 2885500 samples\n",
      "Epoch 1/15\n"
     ]
    },
    {
     "name": "stdout",
     "output_type": "stream",
     "text": [
      "8877500/8877500 [==============================] - 427s 48us/sample - loss: 0.6011 - mape: 49.2933 - mae: 0.5801 - mse: 0.6011 - NSE: 0.5437 - r_square: 0.5495 - val_loss: 0.5235 - val_mape: 50.5507 - val_mae: 0.5769 - val_mse: 0.5235 - val_NSE: 0.4848 - val_r_square: 0.4992 mse: 0.6024 - NSE: 0.5428 - r_square: 0.548 - ETA: 41s - loss: 0.6024 - mape: 49.3212 - mae: 0.5808 - mse: 0.6024 - NSE: 0.5428 - r_square: 0.54 - ETA: 41s - loss: 0.6024 - mape: 49.3211 - mae: 0.5808 - mse: 0.6024 - NSE: 0.5428 - r_square: - ETA: 41s - loss: 0.6023 - mape: 49.3217 - mae: 0.5808 - mse: 0.6024 - NSE: 0.5428 - r_square: 0. - ETA: 40s - loss: 0.6023 - mape: 49.3217 - mae: 0.5808 - mse: 0.6023 - NSE: 0.5428 - r_square: - ETA: 40s - loss: 0.6023 - mape: 49.3220 - mae: 0.5807 - mse: 0.6023 - NSE: 0.5428 -  - ETA: 39s - loss: 0.6023 - mape: 49.3201 - mae: 0.5807 - mse: 0.6023 - NSE: 0.5429 - r_square: 0.5 - ETA: 38s - loss: 0.60 - ETA: 33s - loss: 0.6021 - mape: 49.3143 - mae: 0.5806 - mse: 0 - ETA: 30s - loss: 0.6020 - mape: 49.3140 - mae: 0. - ETA: 27s - loss: 0.6019 - mape: 49.3092 - mae: 0.5805 - mse: 0.6019 - NSE: 0.543 - ETA: 25s - loss: 0.6018 - mape: 49.3089 - m - ETA: 21s - loss: 0.6017 - mape: 49.3052 - mae: 0.5804 - mse: 0.6017 - NSE: 0.5433 - r_square: 0.5 - ETA: 21s - loss: 0.6017 - mape: 49.3053 - mae: 0.5804 - mse: 0.6017 - NSE - ETA: 19s - loss: 0.6016 - mape: 49.3032 - mae: 0.5804 - mse: 0.6016 - NSE: 0.5433 - r_square: 0.54 - ETA: 19s - loss: 0.6016 - mape: 49.3037 - mae: 0.5804 - mse: 0.6016 - NSE: 0.5433 - r_square - ETA: 19s - loss: 0.6016 - mape: 49.3023 - mae: 0.5804 - mse: 0.6016 - NSE: 0.5433 - r_square: 0.54 - ETA: 19s - loss: 0.6016 - mape: 49.3025 - mae: 0.5804 - mse: 0.6016 - NSE: 0.5433 - r_square:  - ETA: 18s - loss: 0.6016 - mape: 49.3027 - mae: 0.5804 - mse: 0.6016 - NSE: 0.5433 - - ETA: 17s - loss: 0.6015 - mape: 49.3009 - mae: 0.5803 - mse: 0.6015 - ETA: 15s - loss: 0.6014 - mape: 49.2983 - mae: 0.5803 - mse: 0.6014 - NSE: 0.5434 - r_sq - ETA: 14s - loss: 0.6014 - mape: 49.2968 - mae: 0.\n",
      "Epoch 2/15\n",
      "8877500/8877500 [==============================] - 431s 49us/sample - loss: 0.5912 - mape: 49.0698 - mae: 0.5748 - mse: 0.5912 - NSE: 0.5512 - r_square: 0.5561 - val_loss: 0.5223 - val_mape: 51.0294 - val_mae: 0.5744 - val_mse: 0.5223 - val_NSE: 0.4859 - val_r_square: 0.501112 - mape: 49.0702 - ma\n",
      "Epoch 3/15\n",
      "8877500/8877500 [==============================] - 435s 49us/sample - loss: 0.5886 - mape: 48.9836 - mae: 0.5725 - mse: 0.5886 - NSE: 0.5530 - r_square: 0.5579 - val_loss: 0.5443 - val_mape: 52.7402 - val_mae: 0.5929 - val_mse: 0.5443 - val_NSE: 0.4642 - val_r_square: 0.490530 - r_square - ETA: 1:01 - loss: 0.5886 - mape: 48.9779 - mae: 0.5726 - mse: 0.5886 - NSE: 0.5530 -  - ETA: 56s - loss: 0.5886 - mape: 48.9833 - mae: 0.5726 - - ETA: - ETA: 49s - loss: 0.5886 - mape: 48.9819 - mae: 0.5726 - mse: 0.5886 - - ETA:\n",
      "5 25 25 0\n",
      "Train on 8877500 samples, validate on 2885500 samples\n",
      "Epoch 1/15\n",
      "8877500/8877500 [==============================] - 440s 50us/sample - loss: 0.6057 - mape: 49.6006 - mae: 0.5826 - mse: 0.6057 - NSE: 0.5402 - r_square: 0.5466 - val_loss: 0.5301 - val_mape: 52.7430 - val_mae: 0.5802 - val_mse: 0.5301 - val_NSE: 0.4783 - val_r_square: 0.5024: 0.5830 -  - ETA: 1:01  - ETA: 57s - loss: 0.6063 - mape: 49.6597 - mae: 0.5829 - mse: 0.6063 - NS - ETA: 55s - loss: 0.6063 - mape: 49.6564 - mae: 0.58 - ETA: 53s - loss: 0.6062 - mape: 49.6540 - mae: 0.5829 - mse: 0.6 - ETA: 51s - loss: 0.6062 - mape: 49.6526 - mae: - ETA: 48s - loss: 0.6062 - mape: 49.6487 - mae: 0.5829 - mse: 0.6062 - NSE: 0.5397 - r_square: 0. - ETA: 48s - loss: 0.6061 - mape: 49.6484 - mae: 0.5829 - mse: 0.6061 - NSE: 0.5397 - ETA: 47s - loss: 0.6062 - mape: 49.6487 - mae: 0.5829  - ETA: 44s - loss: 0.6061 - mape: 49.6430 - mae: 0.5828 - mse: 0.6061 - NSE: 0.5397 - r_square: 0.54 - ETA: 44s - loss: 0.6061 - mape: 49.6426 - mae: 0.5828 - mse: 0.6061 - NSE: 0.5397 - ETA: 43s - loss: 0.6061 - mape: 49.6423 - mae: 0.5828 - mse: 0. - ETA: 41s - loss: 0.6061 - mape: 49.6393 - mae: 0.5828 - mse: 0.6061 - NSE: 0.5397 - r_squar - ETA: 41s - loss: 0.6061 - mape: 49.6400 - mae: 0.5828 - mse: 0.6061 - NSE: 0.5 - ETA: 39s - loss: 0.6061 - mape: 49.6389 - mae: 0.5828 - mse: 0.6061 - NSE: 0.5398 - r_square: 0.54 - ETA: 39s - loss: 0.6061 - mape: 49.6391 - mae: 0.5828 - mse: 0.6061 - NSE - ETA: 37s - loss: 0.6061 - mape: 49.6358 - mae: 0.5828 - mse: 0.6061 - NSE: 0.5398 - r_sq - ETA: 37s - loss: 0.6061 - mape: 49.6347 - mae: 0.5828 - mse: 0.6061 - NSE: 0.5398 - r_ - ETA: 36s - loss: 0.6060 - mape: 49.6334 - mae: 0.5828 - mse: 0.6060 - NSE:  - ETA: 34s - loss: 0.6060 - mape: 49.6323 - mae: 0.5828 - mse: 0.6060 - NSE: 0.5398 - - ETA: 33s - loss: 0.6060 - mape: 49.6318 - mae: 0.5828 - mse: 0.6060 - NSE: 0. - ETA: 32s - loss: 0.6060 - mape: 49.6292 - mae: 0.5827 - mse: 0.6060 - NSE: 0.5399 - r_square: 0.546 - ETA: 32s - loss: 0.6060 - mape: 49.6290 - mae: 0.5827 - mse: 0.60 - ETA: 29s - loss: 0.6060 - mape: 49.6275 - mae: 0.5827 - mse: 0.6060 - NSE: 0.5399 - r_square: - ETA: 29s - loss: 0.6060 - mape: 49.6269 - mae: 0.5827 - mse: 0.6060 - NSE: 0.5399 - r_ - ETA: 29s - loss: 0.6060 - mape: 49.6265 - mae: 0.5827 - mse: 0.6060 - NSE: 0. - ETA: 27s - loss: 0.6059 - mape: 49.6236 - mae: 0.5827 - mse: 0.6059 - NSE: 0.5399 - r_square: 0 - ETA: 27s - loss: 0.6059 - mape: 49.6248 - mae: 0.5827 - mse: 0.6059 - NSE: 0.5399 - r_square: 0.54 - ETA: 26s - loss: 0.6059 - mape: 49.6242 - mae: 0.5827 - mse: 0.6059 - NSE: 0.5399 - r_square: 0.54 - ETA: 26s - loss: 0.6059 - mape: 49.6236 - mae: 0.5827 - mse: 0.6059 - NSE: 0.5399 - r - ETA: 25s - loss: 0.6059 - mape: 49.6229 - mae: 0.5827 - mse: 0.6059 - NSE: 0.5399 - r_square: 0.54 - ETA: 25s - loss: 0.6059 - mape: 49.6224 - mae: 0 - ETA: 22s - loss: 0.6059 - mape: 49.6200 - mae: 0.5827 - mse: 0.6059 - NSE: 0.5400 - r_square: - ETA: 22s - loss: 0.6059 - m - ETA: 17s - loss: 0.6059 - mape: 49.6200 - mae: 0.5827 - mse: 0.6059 - NSE: 0.5400 - r_squa - ETA: 17s - loss: 0.6058 - mape: 49.6190 - mae: 0.5826 - mse: 0.6058 - NSE: 0.5400 - r_s - ETA: 16s - loss: 0.6058 - mape: 49.6180 - mae: 0.5826 - mse: 0.6058 - NSE: 0 - ETA: 14s - loss: 0.6058 - mape: 49.6147 - mae: 0.5826 - mse: 0.6058 - NSE: 0.5400 - r_square: 0.546 - ETA: 14s - loss: 0.6058 - mape: 49.6150 - mae: 0.5826 - mse: 0.6058 - NSE: 0.5400 - r_square: 0.546 - ETA: 14s - loss: 0.6058 - mape: 49.6146 - mae: 0.5826 - mse: 0.6058 - NSE: 0.5400 - r_square: 0.546 - ETA: 14s - loss: 0.6058 - mape: 49.6148 - mae: 0.5826 - mse: 0.6058 - NSE: 0.5400 - r_ - ETA: 13s - loss: 0.6058 - mape: 49.6135 - mae: 0.5826 - mse: 0.6058 - NSE: 0.5401 - r_squa - ETA: 13s - loss: 0.6058 - mape: 49.6143 - mae: 0.5826 - mse: 0.6058 - NSE: 0.5400 - r_square: 0 - ETA: 12s  - ETA: 8s - loss: 0.6057 - mape: 49.6096 - mae: 0.5826 - mse: 0.6057 - NSE: 0.5401 - r_square - ETA: 8s - loss: 0.6057 - mape: 49.6092 - mae: 0.5826 - mse: 0.6057 - NSE: 0.5401 - r_square: 0. - ETA: 8s - loss: 0.6057 - mape: 49.6089 - mae: 0.5826 - mse: 0.6057 - NSE: 0.5401 - r_sq - ETA: 7s - loss: 0.6057 - mape: 49.6083 - mae: 0.5826 - mse: 0.6057 - NSE: 0.5401 - r_ - ETA: 7s - ETA: 4s - loss: 0.6057 - mape: 49.6031 - mae: 0.5826 - mse: 0.6057 - NSE: 0.5401 -  - ETA: 3s - loss: 0.6057 - mape: 49.6022 - mae: 0.5826 - mse: 0.6057 - NSE: 0.5402 - r_square: 0.54 - ETA: 3s - loss: 0.6057 - mape: 49.6021 - mae: 0.5826 - mse: 0.6057 - NSE: 0 - ETA: 3s - loss: 0.6057 - mape: 49.6021 -  - ETA: 1s - loss: 0.6056 - mape: 49.5997 - mae: 0.5825 - mse: 0.6057 - NSE: 0.5402 - r_square - ETA: 0s - loss: 0.6057 - mape: 49.6001 - mae: 0.5826 - mse:\n",
      "Epoch 2/15\n",
      "8877500/8877500 [==============================] - 363s 41us/sample - loss: 0.5987 - mape: 49.2410 - mae: 0.5788 - mse: 0.5987 - NSE: 0.5454 - r_square: 0.5504 - val_loss: 0.5283 - val_mape: 52.1671 - val_mae: 0.5814 - val_mse: 0.5283 - val_NSE: 0.4800 - val_r_square: 0.5021\n",
      "Epoch 3/15\n",
      "8877500/8877500 [==============================] - 358s 40us/sample - loss: 0.5930 - mape: 49.1406 - mae: 0.5759 - mse: 0.5930 - NSE: 0.5498 - r_square: 0.5547 - val_loss: 0.5224 - val_mape: 50.4520 - val_mae: 0.5752 - val_mse: 0.5224 - val_NSE: 0.4860 - val_r_square: 0.4963\n",
      "Epoch 4/15\n",
      "8877500/8877500 [==============================] - 379s 43us/sample - loss: 0.5920 - mape: 49.1170 - mae: 0.5752 - mse: 0.5920 - NSE: 0.5505 - r_square: 0.5554 - val_loss: 0.5160 - val_mape: 52.0013 - val_mae: 0.5744 - val_mse: 0.5160 - val_NSE: 0.4924 - val_r_square: 0.4997\n",
      "Epoch 5/15\n",
      "8877500/8877500 [==============================] - 301s 34us/sample - loss: 0.5913 - mape: 49.1052 - mae: 0.5747 - mse: 0.5913 - NSE: 0.5510 - r_square: 0.5558 - val_loss: 0.5213 - val_mape: 51.6104 - val_mae: 0.5762 - val_mse: 0.5213 - val_NSE: 0.4869 - val_r_square: 0.5003\n"
     ]
    }
   ],
   "source": [
    "for reg in reg_consts:\n",
    "    for n1 in layer_1_neurons:\n",
    "        for n2 in layer_2_neurons:\n",
    "            for n3 in layer_3_neurons:\n",
    "                print(n1,n2,n3,reg)\n",
    "                K.clear_session()\n",
    "                model = Sequential()\n",
    "                #model.add(Dense(n1, activation = 'relu', input_shape = (1,)))\n",
    "                model.add(Dense(n1, activation = 'relu', kernel_regularizer=l2(reg),input_shape = (1,)))\n",
    "                model.add(Dense(n2, activation = 'relu', kernel_regularizer=l2(reg)))\n",
    "                model.add(Dense(n3, activation = 'relu', kernel_regularizer=l2(reg)))\n",
    "\n",
    "                model.add(Dense(2))\n",
    "               \n",
    "                #Compile the model\n",
    "                model.compile(optimizer = 'adam', loss = ['mse'], metrics=['mape', 'mae', 'mse',NSE, r_square])\n",
    "                #fit the model\n",
    "                early_stopping_monitor = EarlyStopping(patience = 1, verbose=False)\n",
    "                history = model.fit(X_train,Y_train, epochs=epochs, batch_size=128, validation_data=(X_val,Y_val), callbacks=[early_stopping_monitor])\n",
    "\n",
    "                # Saving results\n",
    "                val_loss = history.history['val_loss'][-1]\n",
    "                val_mae = history.history['val_mae'][-1]\n",
    "                val_mse = history.history['val_mse'][-1]\n",
    "                val_mape = history.history['val_mape'][-1]\n",
    "                val_nse = history.history['val_NSE'][-1]\n",
    "                val_r_square = history.history['val_r_square'][-1]\n",
    "\n",
    "                results = results.append({'n1':n1,'n2':n2,'n3':n3, 'epochs':len(history.history['val_loss']),\n",
    "                              'reg':reg,'val_r2':val_r_square, 'val_nse':val_nse, 'val_mse':val_mse, 'val_loss':val_loss,\n",
    "                                        'val_mae':val_mae, 'val_mape':val_mape}, ignore_index=True)\n",
    "                if val_loss < best_val_loss:\n",
    "                    best_val_loss = val_loss\n",
    "                    best_model = model\n",
    "                    best_n1 = n1\n",
    "                    best_n2 = n2\n",
    "                    best_n3 = n3\n",
    "                    best_reg = reg\n",
    "                    best_history = history\n",
    "                    model.save(save_model_path)\n",
    "                    results.to_csv(save_results_path)\n",
    "                    \n",
    "results.to_csv(save_results_path)"
   ]
  },
  {
   "cell_type": "markdown",
   "metadata": {},
   "source": [
    "#### Model Summary"
   ]
  },
  {
   "cell_type": "code",
   "execution_count": 16,
   "metadata": {
    "execution": {
     "iopub.execute_input": "2020-09-03T19:12:39.213568Z",
     "iopub.status.busy": "2020-09-03T19:12:39.212520Z",
     "iopub.status.idle": "2020-09-03T19:12:39.216280Z",
     "shell.execute_reply": "2020-09-03T19:12:39.217164Z"
    },
    "papermill": {
     "duration": 0.812572,
     "end_time": "2020-09-03T19:12:39.217375",
     "exception": false,
     "start_time": "2020-09-03T19:12:38.404803",
     "status": "completed"
    },
    "tags": []
   },
   "outputs": [
    {
     "name": "stdout",
     "output_type": "stream",
     "text": [
      "Model: \"sequential\"\n",
      "_________________________________________________________________\n",
      "Layer (type)                 Output Shape              Param #   \n",
      "=================================================================\n",
      "dense (Dense)                (None, 5)                 10        \n",
      "_________________________________________________________________\n",
      "dense_1 (Dense)              (None, 5)                 30        \n",
      "_________________________________________________________________\n",
      "dense_2 (Dense)              (None, 5)                 30        \n",
      "_________________________________________________________________\n",
      "dense_3 (Dense)              (None, 2)                 12        \n",
      "=================================================================\n",
      "Total params: 82\n",
      "Trainable params: 82\n",
      "Non-trainable params: 0\n",
      "_________________________________________________________________\n"
     ]
    }
   ],
   "source": [
    "best_model.summary()"
   ]
  },
  {
   "cell_type": "markdown",
   "metadata": {},
   "source": [
    "#### Loss vs Epochs Visualization"
   ]
  },
  {
   "cell_type": "code",
   "execution_count": null,
   "metadata": {},
   "outputs": [],
   "source": [
    "train_loss = best_history.history['loss']\n",
    "val_loss = best_history.history['val_loss']    \n",
    "plt.style.use('seaborn-whitegrid')\n",
    "ax = plt.axes()\n",
    "plt.plot(np.arange(len(train_loss)),train_loss, label ='train loss')\n",
    "plt.plot(np.arange(len(val_loss)),val_loss, label ='validation loss')\n",
    "plt.legend()\n",
    "# plt.xticks(test['Time'].tolist()[::30], rotation = 45)\n",
    "plt.xlabel('Epochs')\n",
    "plt.ylabel('Loss (MSE)')\n",
    "plt.title('Loss vs Epochs')\n",
    "plt.savefig('/Users/ge72vep/Desktop/thesis/results/mse_loss_15_5_15.png', dpi=800) ######## Check the data path ######## \n",
    "plt.show()"
   ]
  }
 ],
 "metadata": {
  "kernelspec": {
   "display_name": "thesis",
   "language": "python",
   "name": "thesis"
  },
  "language_info": {
   "codemirror_mode": {
    "name": "ipython",
    "version": 3
   },
   "file_extension": ".py",
   "mimetype": "text/x-python",
   "name": "python",
   "nbconvert_exporter": "python",
   "pygments_lexer": "ipython3",
   "version": "3.7.6"
  },
  "papermill": {
   "duration": 1095.738968,
   "end_time": "2020-09-03T19:12:53.052539",
   "environment_variables": {},
   "exception": null,
   "input_path": "__notebook__.ipynb",
   "output_path": "__notebook__.ipynb",
   "parameters": {},
   "start_time": "2020-09-03T18:54:37.313571",
   "version": "2.1.0"
  }
 },
 "nbformat": 4,
 "nbformat_minor": 4
}
